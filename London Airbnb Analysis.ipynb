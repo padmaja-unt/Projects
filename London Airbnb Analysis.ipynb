{
 "cells": [
  {
   "cell_type": "markdown",
   "id": "fdf8caaa",
   "metadata": {},
   "source": [
    "<h3 align=\"center\">BCIS 5110 – Programming for Business Analytics</h3>\n",
    "<h3 align=\"center\">GROUP PROJECT</h3>\n",
    "<h4 align=\"center\">GROUP 2</h4>\n",
    "<h4 align=\"center\">Submitted to: Prof. Dr. Nassim Sohaee</h4>\n",
    "\n",
    "<h4 align=\"center\">Topic: London UK Airbnb Open Data</h4>"
   ]
  },
  {
   "cell_type": "markdown",
   "id": "162a1795",
   "metadata": {},
   "source": [
    "<h4 align=\"left\">Submitted by:</h4>\n",
    "\n",
    "<table align=\"left\">\n",
    "<thead>\n",
    "<tr class=\"header\">\n",
    "</tr>\n",
    "</thead>\n",
    "<tbody>\n",
    "<tr class=\"odd\">\n",
    "<td><strong>1.</strong></td>\n",
    "<td><strong>Yogamrutha Chekuru</strong></td>\n",
    "<td><strong>11591938</strong></td>\n",
    "</tr>\n",
    "<tr class=\"even\">\n",
    "<td><strong>2.</strong></td>\n",
    "<td><strong>Nihash Reddy Akavaram</strong></td>\n",
    "<td><strong>11612386</strong></td>\n",
    "</tr>\n",
    "<tr class=\"odd\">\n",
    "<td><strong>3.</strong></td>\n",
    "<td><strong>Padmaja Ankus</strong></td>\n",
    "<td><strong>11532181</strong></td>\n",
    "</tr>\n",
    "<tr class=\"even\">\n",
    "<td><strong>4.</strong></td>\n",
    "<td><strong>Bidhut Dhakal</strong></td>\n",
    "<td><strong>11267014</strong></td>\n",
    "</tr>\n",
    "<tr class=\"odd\">\n",
    "<td><strong>5.</strong></td>\n",
    "<td><strong>Pedasinghu meher Chaitanya</strong></td>\n",
    "<td><strong>11631159</strong></td>\n",
    "</tr>\n",
    "</tbody>\n",
    "</table>"
   ]
  },
  {
   "cell_type": "markdown",
   "id": "cab7f59b",
   "metadata": {},
   "source": [
    "## Choice of a dataset\n",
    "\n",
    "> The dataset, London UK Airbnb Open Data is taken from Kaggle Datasets (source: https://www.kaggle.com/datasets/whenamancodes/london-uk-airbnb-open-data). It is an open dataset which is a part of Airbnb. <br>This dataset helps us to find the demand of the hosting places and locations. The reasons for variance of traffic in the various locations "
   ]
  },
  {
   "cell_type": "markdown",
   "id": "40be78a6",
   "metadata": {},
   "source": [
    "## Topic Statement and data description\n",
    "\n",
    "> To analyze the various accommodations listed in the UK London neighbourhoods. To know the price variations and earnings of different accommodations and hosts. It is also useful to find the busiest hosts and places.<br>\n",
    "> The dataset has 11732 entries and 15 columns with missing values of 8.67 percent"
   ]
  },
  {
   "cell_type": "markdown",
   "id": "f35c090b",
   "metadata": {},
   "source": [
    "## Imputation of Missing values\n",
    "\n",
    "\n",
    ">The values of latitude and longitude columns \n",
    "are in similar to normal distribution and the missing\n",
    "values can be replaced with the mean of the entire values\n",
    "in these columns respectively.<br>\n",
    "Replacing the missing values in minimum_nights, last_review\n",
    "and reviews_per_month by the most repeated value in those columns\n",
    "respectively.<br>\n",
    "The distribution of availability_365 is not normal distribution. So,\n",
    "we replace this column null values with median value of respective\n",
    "neighbourhood and room_type.\n",
    " "
   ]
  },
  {
   "cell_type": "markdown",
   "id": "6236da89",
   "metadata": {},
   "source": [
    "## summary of data structure and what you hope to learn from the dataset\n",
    "\n",
    ">The dataset has 11732 records and 15 columns. The following are the list of columns and their datatype:<br>\n",
    "**int:** 'id','host_id','price','number_of_reviews','calculated_host_listings_count'<br>\n",
    "**float:** 'latitude','longitude','minimum_nights','reviews_per_month','availability_365'<br>\n",
    "**datetime:** 'last_review'<br>\n",
    "**string/object:** 'name','host_name','neighbourhood','room_type'\n",
    "\n",
    "We can learn about the various areas and hosts and know about the locations, prices, reviews and other. We can also know the busiest hosts and location as well."
   ]
  },
  {
   "cell_type": "markdown",
   "id": "cd016a36",
   "metadata": {},
   "source": [
    "## Usage of python modules\n",
    "\n",
    ">1) numpy: This package will be used for performing mathematical operations like min, max, sum and etc<br>\n",
    ">2) pandas: This module will be helpful to perform dataset manipulation and other data processing<br>\n",
    ">3) matplotlib: This is used for data visualization."
   ]
  },
  {
   "cell_type": "markdown",
   "id": "6ea18d11",
   "metadata": {},
   "source": [
    "### 10 exciting findings about the datasets\n",
    "\n",
    "1) Display the top most neighbourhood having more than average number of accommodations?<br>\n",
    "2) Find the neighbourhood which is making more money annually by calculating the annual returns of each accomodation ?<br>\n",
    "3) Compare the number of accommodations available for each host and the earnings of their accommodations. Find the top 10 host with more accommodations?<br>\n",
    "4) Find the average price of each neighbourhood and display the top 5 neighbourhoods which are expensive to stay?<br>\n",
    "5) Categorize the accommodations based on reviews received per month and find out which neighbourhood have more accommodations in the better range?<br>\n",
    "6) Calculate the reviews received by each host and find the top 5 hosts who has got highest number of reviews?<br>\n",
    "7) Find the earnings of each host who are present in Westminster and how many host are ranked in top 10 earnings?<br>\n",
    "8) What are the total earnings of the accommodations in year and find out which year has brought good earnings to AIRBNB?<br>\n",
    "9) Categorize the availability of accommodations into four quarters and find out the number of accommodations available per quarter?<br>\n",
    "10) Find the relation between the average price and reviews per each neighbourhood?<br>\n",
    "11) Calculate the average price of various room types available in each neighbourhood and find out neighbourhoods having minimum and maximum average price<br>"
   ]
  },
  {
   "cell_type": "markdown",
   "id": "b834bf3a",
   "metadata": {},
   "source": [
    "## Data Description"
   ]
  },
  {
   "cell_type": "code",
   "execution_count": 1,
   "id": "386f0c6d",
   "metadata": {},
   "outputs": [],
   "source": [
    "# importing libraries\n",
    "import pandas as pd\n",
    "import numpy as np\n",
    "import matplotlib.pyplot as plt\n",
    "\n",
    "import warnings\n",
    "warnings.simplefilter(\"ignore\", category=RuntimeWarning)"
   ]
  },
  {
   "cell_type": "code",
   "execution_count": 2,
   "id": "e553d7c2",
   "metadata": {},
   "outputs": [
    {
     "data": {
      "text/html": [
       "<div>\n",
       "<style scoped>\n",
       "    .dataframe tbody tr th:only-of-type {\n",
       "        vertical-align: middle;\n",
       "    }\n",
       "\n",
       "    .dataframe tbody tr th {\n",
       "        vertical-align: top;\n",
       "    }\n",
       "\n",
       "    .dataframe thead th {\n",
       "        text-align: right;\n",
       "    }\n",
       "</style>\n",
       "<table border=\"1\" class=\"dataframe\">\n",
       "  <thead>\n",
       "    <tr style=\"text-align: right;\">\n",
       "      <th></th>\n",
       "      <th>id</th>\n",
       "      <th>name</th>\n",
       "      <th>host_id</th>\n",
       "      <th>host_name</th>\n",
       "      <th>neighbourhood</th>\n",
       "      <th>latitude</th>\n",
       "      <th>longitude</th>\n",
       "      <th>room_type</th>\n",
       "      <th>price</th>\n",
       "      <th>minimum_nights</th>\n",
       "      <th>number_of_reviews</th>\n",
       "      <th>last_review</th>\n",
       "      <th>reviews_per_month</th>\n",
       "      <th>calculated_host_listings_count</th>\n",
       "      <th>availability_365</th>\n",
       "      <th>number_of_reviews_ltm</th>\n",
       "    </tr>\n",
       "  </thead>\n",
       "  <tbody>\n",
       "    <tr>\n",
       "      <th>0</th>\n",
       "      <td>40228</td>\n",
       "      <td>Room 4 Cosy Double Bedroom on First Floor</td>\n",
       "      <td>167107</td>\n",
       "      <td>Paul</td>\n",
       "      <td>Haringey</td>\n",
       "      <td>51.58738</td>\n",
       "      <td>-0.08792</td>\n",
       "      <td>Private room</td>\n",
       "      <td>45</td>\n",
       "      <td>1.0</td>\n",
       "      <td>0</td>\n",
       "      <td>NaN</td>\n",
       "      <td>NaN</td>\n",
       "      <td>3</td>\n",
       "      <td>358.0</td>\n",
       "      <td>0</td>\n",
       "    </tr>\n",
       "    <tr>\n",
       "      <th>1</th>\n",
       "      <td>41870</td>\n",
       "      <td>Room in relaxed family house!</td>\n",
       "      <td>182993</td>\n",
       "      <td>Bimpe</td>\n",
       "      <td>Waltham Forest</td>\n",
       "      <td>51.55840</td>\n",
       "      <td>0.00258</td>\n",
       "      <td>Private room</td>\n",
       "      <td>37</td>\n",
       "      <td>2.0</td>\n",
       "      <td>2</td>\n",
       "      <td>7/2/2011</td>\n",
       "      <td>0.01</td>\n",
       "      <td>1</td>\n",
       "      <td>NaN</td>\n",
       "      <td>0</td>\n",
       "    </tr>\n",
       "    <tr>\n",
       "      <th>2</th>\n",
       "      <td>42692</td>\n",
       "      <td>Fabulous flat w garden and bkfst!</td>\n",
       "      <td>186510</td>\n",
       "      <td>Shelley</td>\n",
       "      <td>Hammersmith and Fulham</td>\n",
       "      <td>51.50822</td>\n",
       "      <td>-0.21562</td>\n",
       "      <td>Private room</td>\n",
       "      <td>125</td>\n",
       "      <td>1.0</td>\n",
       "      <td>0</td>\n",
       "      <td>NaN</td>\n",
       "      <td>NaN</td>\n",
       "      <td>1</td>\n",
       "      <td>NaN</td>\n",
       "      <td>0</td>\n",
       "    </tr>\n",
       "    <tr>\n",
       "      <th>3</th>\n",
       "      <td>55402</td>\n",
       "      <td>Modern 2 Bed 2 Bath, UK, Croydon</td>\n",
       "      <td>57861</td>\n",
       "      <td>Beth</td>\n",
       "      <td>Croydon</td>\n",
       "      <td>51.37487</td>\n",
       "      <td>-0.11565</td>\n",
       "      <td>Entire home/apt</td>\n",
       "      <td>56</td>\n",
       "      <td>14.0</td>\n",
       "      <td>2</td>\n",
       "      <td>11/9/2018</td>\n",
       "      <td>0.04</td>\n",
       "      <td>1</td>\n",
       "      <td>NaN</td>\n",
       "      <td>0</td>\n",
       "    </tr>\n",
       "    <tr>\n",
       "      <th>4</th>\n",
       "      <td>65908</td>\n",
       "      <td>Lovely room in cool Brixton</td>\n",
       "      <td>322341</td>\n",
       "      <td>Kate</td>\n",
       "      <td>Lambeth</td>\n",
       "      <td>51.45932</td>\n",
       "      <td>-0.11874</td>\n",
       "      <td>Private room</td>\n",
       "      <td>80</td>\n",
       "      <td>2.0</td>\n",
       "      <td>0</td>\n",
       "      <td>NaN</td>\n",
       "      <td>NaN</td>\n",
       "      <td>1</td>\n",
       "      <td>NaN</td>\n",
       "      <td>0</td>\n",
       "    </tr>\n",
       "  </tbody>\n",
       "</table>\n",
       "</div>"
      ],
      "text/plain": [
       "      id                                       name  host_id host_name  \\\n",
       "0  40228  Room 4 Cosy Double Bedroom on First Floor   167107      Paul   \n",
       "1  41870              Room in relaxed family house!   182993     Bimpe   \n",
       "2  42692          Fabulous flat w garden and bkfst!   186510   Shelley   \n",
       "3  55402           Modern 2 Bed 2 Bath, UK, Croydon    57861      Beth   \n",
       "4  65908                Lovely room in cool Brixton   322341      Kate   \n",
       "\n",
       "            neighbourhood  latitude  longitude        room_type  price  \\\n",
       "0                Haringey  51.58738   -0.08792     Private room     45   \n",
       "1          Waltham Forest  51.55840    0.00258     Private room     37   \n",
       "2  Hammersmith and Fulham  51.50822   -0.21562     Private room    125   \n",
       "3                 Croydon  51.37487   -0.11565  Entire home/apt     56   \n",
       "4                 Lambeth  51.45932   -0.11874     Private room     80   \n",
       "\n",
       "   minimum_nights  number_of_reviews last_review  reviews_per_month  \\\n",
       "0             1.0                  0         NaN                NaN   \n",
       "1             2.0                  2    7/2/2011               0.01   \n",
       "2             1.0                  0         NaN                NaN   \n",
       "3            14.0                  2   11/9/2018               0.04   \n",
       "4             2.0                  0         NaN                NaN   \n",
       "\n",
       "   calculated_host_listings_count  availability_365  number_of_reviews_ltm  \n",
       "0                               3             358.0                      0  \n",
       "1                               1               NaN                      0  \n",
       "2                               1               NaN                      0  \n",
       "3                               1               NaN                      0  \n",
       "4                               1               NaN                      0  "
      ]
     },
     "execution_count": 2,
     "metadata": {},
     "output_type": "execute_result"
    }
   ],
   "source": [
    "# Reading the dataset using pandas\n",
    "file = \"dataset_group2.csv\"\n",
    "df = pd.read_csv(file)\n",
    "\n",
    "# Displaying the first rows to check the data\n",
    "df.head()"
   ]
  },
  {
   "cell_type": "code",
   "execution_count": 3,
   "id": "76c6b048",
   "metadata": {},
   "outputs": [
    {
     "name": "stdout",
     "output_type": "stream",
     "text": [
      "<class 'pandas.core.frame.DataFrame'>\n",
      "RangeIndex: 11732 entries, 0 to 11731\n",
      "Data columns (total 16 columns):\n",
      " #   Column                          Non-Null Count  Dtype  \n",
      "---  ------                          --------------  -----  \n",
      " 0   id                              11732 non-null  int64  \n",
      " 1   name                            11569 non-null  object \n",
      " 2   host_id                         11732 non-null  int64  \n",
      " 3   host_name                       11729 non-null  object \n",
      " 4   neighbourhood                   11732 non-null  object \n",
      " 5   latitude                        11108 non-null  float64\n",
      " 6   longitude                       11108 non-null  float64\n",
      " 7   room_type                       11732 non-null  object \n",
      " 8   price                           11732 non-null  int64  \n",
      " 9   minimum_nights                  10789 non-null  float64\n",
      " 10  number_of_reviews               11732 non-null  int64  \n",
      " 11  last_review                     10515 non-null  object \n",
      " 12  reviews_per_month               10515 non-null  float64\n",
      " 13  calculated_host_listings_count  11732 non-null  int64  \n",
      " 14  availability_365                1257 non-null   float64\n",
      " 15  number_of_reviews_ltm           11732 non-null  int64  \n",
      "dtypes: float64(5), int64(6), object(5)\n",
      "memory usage: 1.4+ MB\n"
     ]
    }
   ],
   "source": [
    "# Displaying the information of the dataset\n",
    "df.info()"
   ]
  },
  {
   "cell_type": "markdown",
   "id": "62629446",
   "metadata": {},
   "source": [
    "Converting the last_review column from object to datetime datatype"
   ]
  },
  {
   "cell_type": "code",
   "execution_count": 4,
   "id": "6425a634",
   "metadata": {},
   "outputs": [
    {
     "name": "stdout",
     "output_type": "stream",
     "text": [
      "<class 'pandas.core.series.Series'>\n",
      "RangeIndex: 11732 entries, 0 to 11731\n",
      "Series name: last_review\n",
      "Non-Null Count  Dtype         \n",
      "--------------  -----         \n",
      "10515 non-null  datetime64[ns]\n",
      "dtypes: datetime64[ns](1)\n",
      "memory usage: 91.8 KB\n"
     ]
    }
   ],
   "source": [
    "# Converting the datatype of last_review to datetime\n",
    "df['last_review'] = pd.to_datetime(df['last_review'])\n",
    "df.last_review.info()"
   ]
  },
  {
   "cell_type": "code",
   "execution_count": 5,
   "id": "3b1ba34d",
   "metadata": {},
   "outputs": [
    {
     "name": "stdout",
     "output_type": "stream",
     "text": [
      "There are 11732 rows and 16 columns\n"
     ]
    }
   ],
   "source": [
    "print(\"There are %d rows and %d columns\"%(df.shape[0], df.shape[1]))"
   ]
  },
  {
   "cell_type": "code",
   "execution_count": 6,
   "id": "dc41e183",
   "metadata": {},
   "outputs": [
    {
     "name": "stdout",
     "output_type": "stream",
     "text": [
      "Column number_of_reviews_ltm is having a single value. \n",
      "value =  [0]\n"
     ]
    }
   ],
   "source": [
    "# Checking if the columns are having single value using unique()\n",
    "for column in df.columns:\n",
    "    if len(df[column].unique()) == 1:\n",
    "        print(\"Column %s is having a single value. \\nvalue = \"%column, df[column].unique())"
   ]
  },
  {
   "cell_type": "markdown",
   "id": "73207389",
   "metadata": {},
   "source": [
    "Since the column `number_of_reviews_ltm` is having only one value. It will not be used for analysis"
   ]
  },
  {
   "cell_type": "code",
   "execution_count": 7,
   "id": "2bba427a",
   "metadata": {},
   "outputs": [
    {
     "name": "stdout",
     "output_type": "stream",
     "text": [
      "There are 11732 rows and 15 columns\n"
     ]
    }
   ],
   "source": [
    "df.drop(columns = ['number_of_reviews_ltm'], inplace = True)\n",
    "        \n",
    "print(\"There are %d rows and %d columns\"%(df.shape[0], df.shape[1]))"
   ]
  },
  {
   "cell_type": "code",
   "execution_count": 8,
   "id": "44ba3491",
   "metadata": {},
   "outputs": [
    {
     "name": "stdout",
     "output_type": "stream",
     "text": [
      "The null values in the dataset are 8.67\n"
     ]
    }
   ],
   "source": [
    "print(\"The null values in the dataset are %.2f\"%(df.isna().sum().sum() * 100 / (df.shape[0] * df.shape[1] )))"
   ]
  },
  {
   "cell_type": "code",
   "execution_count": 9,
   "id": "fbf35f55",
   "metadata": {},
   "outputs": [
    {
     "name": "stdout",
     "output_type": "stream",
     "text": [
      "<class 'pandas.core.frame.DataFrame'>\n",
      "RangeIndex: 11732 entries, 0 to 11731\n",
      "Data columns (total 15 columns):\n",
      " #   Column                          Non-Null Count  Dtype         \n",
      "---  ------                          --------------  -----         \n",
      " 0   id                              11732 non-null  int64         \n",
      " 1   name                            11569 non-null  object        \n",
      " 2   host_id                         11732 non-null  int64         \n",
      " 3   host_name                       11729 non-null  object        \n",
      " 4   neighbourhood                   11732 non-null  object        \n",
      " 5   latitude                        11108 non-null  float64       \n",
      " 6   longitude                       11108 non-null  float64       \n",
      " 7   room_type                       11732 non-null  object        \n",
      " 8   price                           11732 non-null  int64         \n",
      " 9   minimum_nights                  10789 non-null  float64       \n",
      " 10  number_of_reviews               11732 non-null  int64         \n",
      " 11  last_review                     10515 non-null  datetime64[ns]\n",
      " 12  reviews_per_month               10515 non-null  float64       \n",
      " 13  calculated_host_listings_count  11732 non-null  int64         \n",
      " 14  availability_365                1257 non-null   float64       \n",
      "dtypes: datetime64[ns](1), float64(5), int64(5), object(4)\n",
      "memory usage: 1.3+ MB\n"
     ]
    }
   ],
   "source": [
    "# Displaying the information \n",
    "df.info()"
   ]
  },
  {
   "cell_type": "markdown",
   "id": "ba303009",
   "metadata": {},
   "source": [
    "## Missing Values Imputation"
   ]
  },
  {
   "cell_type": "code",
   "execution_count": 10,
   "id": "1ed7e143",
   "metadata": {},
   "outputs": [
    {
     "data": {
      "text/plain": [
       "Double room                                         9\n",
       "Lovely double room in East London                   4\n",
       "Single room                                         4\n",
       "Walk to 8 events - Greenwich room                   3\n",
       "Room                                                3\n",
       "                                                   ..\n",
       "Stunning modern flat Notting Hill                   1\n",
       "Comfy Double Room in Turnpike Lane 5mins to Tube    1\n",
       "Double room close to Leyton                         1\n",
       "Luxury 2 bed house with garden                      1\n",
       "Bright room, double bed in Battersea                1\n",
       "Name: name, Length: 11454, dtype: int64"
      ]
     },
     "execution_count": 10,
     "metadata": {},
     "output_type": "execute_result"
    }
   ],
   "source": [
    "# Displaying the frequency of values in name column\n",
    "df['name'].value_counts()"
   ]
  },
  {
   "cell_type": "markdown",
   "id": "d5d1be2a",
   "metadata": {},
   "source": [
    "We replace the null values in `name` column by the frequenty repeated values"
   ]
  },
  {
   "cell_type": "code",
   "execution_count": 11,
   "id": "b78c2018",
   "metadata": {},
   "outputs": [
    {
     "name": "stdout",
     "output_type": "stream",
     "text": [
      "<class 'pandas.core.series.Series'>\n",
      "RangeIndex: 11732 entries, 0 to 11731\n",
      "Series name: name\n",
      "Non-Null Count  Dtype \n",
      "--------------  ----- \n",
      "11732 non-null  object\n",
      "dtypes: object(1)\n",
      "memory usage: 91.8+ KB\n"
     ]
    }
   ],
   "source": [
    "# Replace the null values in name \n",
    "df['name'] = df['name'].fillna('Double room')\n",
    "df.name.info()"
   ]
  },
  {
   "cell_type": "code",
   "execution_count": 12,
   "id": "aec506ad",
   "metadata": {},
   "outputs": [
    {
     "data": {
      "text/plain": [
       "<matplotlib.collections.LineCollection at 0x19d268acb80>"
      ]
     },
     "execution_count": 12,
     "metadata": {},
     "output_type": "execute_result"
    },
    {
     "data": {
      "image/png": "[encoded data removed]",
      "text/plain": [
       "<Figure size 640x480 with 1 Axes>"
      ]
     },
     "metadata": {},
     "output_type": "display_data"
    }
   ],
   "source": [
    "# Plotting the histogram of latitude along with mean and median values\n",
    "df['latitude'].plot(kind = 'hist')\n",
    "plt.vlines( df['latitude'].mean(), 0, 4000, color = 'g')\n",
    "plt.vlines( df['latitude'].median(), 0, 4000, color = 'r')"
   ]
  },
  {
   "cell_type": "code",
   "execution_count": 13,
   "id": "f36f1bd0",
   "metadata": {},
   "outputs": [
    {
     "data": {
      "text/plain": [
       "<matplotlib.collections.LineCollection at 0x19d26adfcd0>"
      ]
     },
     "execution_count": 13,
     "metadata": {},
     "output_type": "execute_result"
    },
    {
     "data": {
      "image/png": "[encoded data removed]",
      "text/plain": [
       "<Figure size 640x480 with 1 Axes>"
      ]
     },
     "metadata": {},
     "output_type": "display_data"
    }
   ],
   "source": [
    "# Plotting the histogram of longitude along with mean and median values\n",
    "df['longitude'].plot(kind = 'hist')\n",
    "plt.vlines( df['longitude'].mean(), 0, 5000, color = 'g')\n",
    "plt.vlines( df['longitude'].median(), 0, 5000, color = 'r')"
   ]
  },
  {
   "cell_type": "markdown",
   "id": "6556b36e",
   "metadata": {},
   "source": [
    "By observing the above two histograms, it is clear that we can fill the missing values of latitude and longitude columns with either the mean or median. This indicates that the large number of hotels are near to each other."
   ]
  },
  {
   "cell_type": "code",
   "execution_count": 14,
   "id": "ea2b894c",
   "metadata": {},
   "outputs": [
    {
     "data": {
      "text/html": [
       "<div>\n",
       "<style scoped>\n",
       "    .dataframe tbody tr th:only-of-type {\n",
       "        vertical-align: middle;\n",
       "    }\n",
       "\n",
       "    .dataframe tbody tr th {\n",
       "        vertical-align: top;\n",
       "    }\n",
       "\n",
       "    .dataframe thead th {\n",
       "        text-align: right;\n",
       "    }\n",
       "</style>\n",
       "<table border=\"1\" class=\"dataframe\">\n",
       "  <thead>\n",
       "    <tr style=\"text-align: right;\">\n",
       "      <th></th>\n",
       "      <th>latitude</th>\n",
       "      <th>longitude</th>\n",
       "    </tr>\n",
       "  </thead>\n",
       "  <tbody>\n",
       "    <tr>\n",
       "      <th>count</th>\n",
       "      <td>11108.000000</td>\n",
       "      <td>11108.000000</td>\n",
       "    </tr>\n",
       "    <tr>\n",
       "      <th>mean</th>\n",
       "      <td>51.510826</td>\n",
       "      <td>-0.119572</td>\n",
       "    </tr>\n",
       "    <tr>\n",
       "      <th>std</th>\n",
       "      <td>0.046129</td>\n",
       "      <td>0.086879</td>\n",
       "    </tr>\n",
       "    <tr>\n",
       "      <th>min</th>\n",
       "      <td>51.314590</td>\n",
       "      <td>-0.485320</td>\n",
       "    </tr>\n",
       "    <tr>\n",
       "      <th>25%</th>\n",
       "      <td>51.480258</td>\n",
       "      <td>-0.180560</td>\n",
       "    </tr>\n",
       "    <tr>\n",
       "      <th>50%</th>\n",
       "      <td>51.516820</td>\n",
       "      <td>-0.110360</td>\n",
       "    </tr>\n",
       "    <tr>\n",
       "      <th>75%</th>\n",
       "      <td>51.542523</td>\n",
       "      <td>-0.063840</td>\n",
       "    </tr>\n",
       "    <tr>\n",
       "      <th>max</th>\n",
       "      <td>51.694630</td>\n",
       "      <td>0.242730</td>\n",
       "    </tr>\n",
       "  </tbody>\n",
       "</table>\n",
       "</div>"
      ],
      "text/plain": [
       "           latitude     longitude\n",
       "count  11108.000000  11108.000000\n",
       "mean      51.510826     -0.119572\n",
       "std        0.046129      0.086879\n",
       "min       51.314590     -0.485320\n",
       "25%       51.480258     -0.180560\n",
       "50%       51.516820     -0.110360\n",
       "75%       51.542523     -0.063840\n",
       "max       51.694630      0.242730"
      ]
     },
     "execution_count": 14,
     "metadata": {},
     "output_type": "execute_result"
    }
   ],
   "source": [
    "# Displaying the statistical values on latitude and longitude columns\n",
    "df[['latitude', 'longitude']].describe()"
   ]
  },
  {
   "cell_type": "code",
   "execution_count": 15,
   "id": "5ad83a1e",
   "metadata": {},
   "outputs": [
    {
     "name": "stdout",
     "output_type": "stream",
     "text": [
      "<class 'pandas.core.frame.DataFrame'>\n",
      "RangeIndex: 11732 entries, 0 to 11731\n",
      "Data columns (total 2 columns):\n",
      " #   Column     Non-Null Count  Dtype  \n",
      "---  ------     --------------  -----  \n",
      " 0   latitude   11732 non-null  float64\n",
      " 1   longitude  11732 non-null  float64\n",
      "dtypes: float64(2)\n",
      "memory usage: 183.4 KB\n"
     ]
    }
   ],
   "source": [
    "# Replacing the null values in latitude and longitude with their mean values\n",
    "df['latitude'].fillna(df['latitude'].mean(), inplace = True)\n",
    "df['longitude'].fillna(df['longitude'].mean(), inplace = True)\n",
    "df[['latitude', 'longitude']].info()"
   ]
  },
  {
   "cell_type": "code",
   "execution_count": 16,
   "id": "b3726dbe",
   "metadata": {},
   "outputs": [
    {
     "data": {
      "text/plain": [
       "<matplotlib.collections.LineCollection at 0x19d26bb3dc0>"
      ]
     },
     "execution_count": 16,
     "metadata": {},
     "output_type": "execute_result"
    },
    {
     "data": {
      "image/png": "[encoded data removed]",
      "text/plain": [
       "<Figure size 640x480 with 1 Axes>"
      ]
     },
     "metadata": {},
     "output_type": "display_data"
    }
   ],
   "source": [
    "# Plotting the histogram of minimum_nights along with mean and median values\n",
    "df['minimum_nights'].plot(kind = 'hist')\n",
    "plt.vlines( df['minimum_nights'].mean(), 0, 11000, color = 'g')\n",
    "plt.vlines( df['minimum_nights'].median(), 0, 11000, color = 'r')"
   ]
  },
  {
   "cell_type": "code",
   "execution_count": 17,
   "id": "837d1009",
   "metadata": {},
   "outputs": [
    {
     "data": {
      "text/plain": [
       "1.0     3565\n",
       "2.0     3269\n",
       "3.0     1852\n",
       "4.0      730\n",
       "7.0      576\n",
       "14.0     169\n",
       "10.0     106\n",
       "Name: minimum_nights, dtype: int64"
      ]
     },
     "execution_count": 17,
     "metadata": {},
     "output_type": "execute_result"
    }
   ],
   "source": [
    "# Displaying the frequency of top 10 values in minimum_nights columns\n",
    "df['minimum_nights'].value_counts()[:10]"
   ]
  },
  {
   "cell_type": "code",
   "execution_count": 18,
   "id": "ef4ab8b5",
   "metadata": {},
   "outputs": [
    {
     "data": {
      "text/plain": [
       "count    10789.000000\n",
       "mean         5.616647\n",
       "std         30.235119\n",
       "min          1.000000\n",
       "25%          1.000000\n",
       "50%          2.000000\n",
       "75%          3.000000\n",
       "max       1124.000000\n",
       "Name: minimum_nights, dtype: float64"
      ]
     },
     "execution_count": 18,
     "metadata": {},
     "output_type": "execute_result"
    }
   ],
   "source": [
    "# Distribution of minimum_nights column\n",
    "df['minimum_nights'].describe()"
   ]
  },
  {
   "cell_type": "code",
   "execution_count": 19,
   "id": "67523709",
   "metadata": {},
   "outputs": [],
   "source": [
    "# Replacing the missing values in minimum_nights column with median values\n",
    "df['minimum_nights'].fillna( df['minimum_nights'].median(), inplace = True)"
   ]
  },
  {
   "cell_type": "code",
   "execution_count": 20,
   "id": "7e3f35c0",
   "metadata": {},
   "outputs": [
    {
     "data": {
      "text/plain": [
       "2019-01-01    77\n",
       "2019-01-02    73\n",
       "2018-01-01    69\n",
       "2018-01-02    59\n",
       "2017-01-02    54\n",
       "              ..\n",
       "2014-08-14     1\n",
       "2014-10-18     1\n",
       "2014-07-08     1\n",
       "2015-05-09     1\n",
       "2011-07-02     1\n",
       "Name: last_review, Length: 1533, dtype: int64"
      ]
     },
     "execution_count": 20,
     "metadata": {},
     "output_type": "execute_result"
    }
   ],
   "source": [
    "# Displaying the frequency of values in last_review\n",
    "df['last_review'].value_counts()"
   ]
  },
  {
   "cell_type": "code",
   "execution_count": 21,
   "id": "2a59d372",
   "metadata": {},
   "outputs": [
    {
     "name": "stdout",
     "output_type": "stream",
     "text": [
      "The null values has been replaced with 2019-01-01 00:00:00\n",
      "<class 'pandas.core.series.Series'>\n",
      "RangeIndex: 11732 entries, 0 to 11731\n",
      "Series name: last_review\n",
      "Non-Null Count  Dtype         \n",
      "--------------  -----         \n",
      "11732 non-null  datetime64[ns]\n",
      "dtypes: datetime64[ns](1)\n",
      "memory usage: 91.8 KB\n"
     ]
    }
   ],
   "source": [
    "# Replacing the last_review column with the most repeated value\n",
    "df['last_review'].fillna(df['last_review'].value_counts().index[0], inplace = True)\n",
    "print(\"The null values has been replaced with\",df['last_review'].value_counts().index[0])\n",
    "df.last_review.info()"
   ]
  },
  {
   "cell_type": "code",
   "execution_count": 22,
   "id": "51b1d70a",
   "metadata": {},
   "outputs": [
    {
     "data": {
      "text/plain": [
       "<AxesSubplot: ylabel='Frequency'>"
      ]
     },
     "execution_count": 22,
     "metadata": {},
     "output_type": "execute_result"
    },
    {
     "data": {
      "image/png": "[encoded data removed]",
      "text/plain": [
       "<Figure size 640x480 with 1 Axes>"
      ]
     },
     "metadata": {},
     "output_type": "display_data"
    }
   ],
   "source": [
    "# Plotting the histogram of reviews_per_month along with mean and median values\n",
    "df.reviews_per_month.plot(kind = 'hist')"
   ]
  },
  {
   "cell_type": "code",
   "execution_count": 23,
   "id": "2be76030",
   "metadata": {},
   "outputs": [
    {
     "data": {
      "text/plain": [
       "0.02    1979\n",
       "0.01    1170\n",
       "0.03     909\n",
       "0.04     851\n",
       "0.05     627\n",
       "        ... \n",
       "1.78       1\n",
       "1.27       1\n",
       "1.12       1\n",
       "1.32       1\n",
       "0.94       1\n",
       "Name: reviews_per_month, Length: 158, dtype: int64"
      ]
     },
     "execution_count": 23,
     "metadata": {},
     "output_type": "execute_result"
    }
   ],
   "source": [
    "# Displaying the frequency of values in reviews_per_month\n",
    "df.reviews_per_month.value_counts()"
   ]
  },
  {
   "cell_type": "code",
   "execution_count": 24,
   "id": "4c2bd982",
   "metadata": {},
   "outputs": [
    {
     "name": "stdout",
     "output_type": "stream",
     "text": [
      "The Null values in reviews_per_month is being replaced with 0.02\n"
     ]
    }
   ],
   "source": [
    "# Replacing the null values of reviews_per_month\n",
    "print(\"The Null values in reviews_per_month is being replaced with\",df.reviews_per_month.value_counts().index[0])\n",
    "df.reviews_per_month.fillna(df.reviews_per_month.value_counts().index[0], inplace = True)"
   ]
  },
  {
   "cell_type": "markdown",
   "id": "9fae2f11",
   "metadata": {},
   "source": [
    "The following values will show the dependency of availability_365 on other columns"
   ]
  },
  {
   "cell_type": "code",
   "execution_count": 25,
   "id": "2d556eba",
   "metadata": {},
   "outputs": [
    {
     "data": {
      "text/plain": [
       "id                               -0.204731\n",
       "host_id                          -0.055968\n",
       "latitude                          0.012670\n",
       "longitude                         0.036317\n",
       "price                             0.085179\n",
       "minimum_nights                    0.091980\n",
       "number_of_reviews                -0.142016\n",
       "reviews_per_month                -0.166678\n",
       "calculated_host_listings_count   -0.028326\n",
       "availability_365                  1.000000\n",
       "Name: availability_365, dtype: float64"
      ]
     },
     "execution_count": 25,
     "metadata": {},
     "output_type": "execute_result"
    }
   ],
   "source": [
    "# Finding the correlation between availability_365 and on other columns\n",
    "df.corr()['availability_365']"
   ]
  },
  {
   "cell_type": "markdown",
   "id": "69318074",
   "metadata": {},
   "source": [
    "It is observed that the availability_365 is not dependent on other columns."
   ]
  },
  {
   "cell_type": "code",
   "execution_count": 26,
   "id": "6539bb35",
   "metadata": {},
   "outputs": [
    {
     "data": {
      "text/plain": [
       "<matplotlib.collections.LineCollection at 0x19d26d0b880>"
      ]
     },
     "execution_count": 26,
     "metadata": {},
     "output_type": "execute_result"
    },
    {
     "data": {
      "image/png": "[encoded data removed]",
      "text/plain": [
       "<Figure size 640x480 with 1 Axes>"
      ]
     },
     "metadata": {},
     "output_type": "display_data"
    }
   ],
   "source": [
    "# Plotting the kde of availability_365 along with mean and median values\n",
    "df['availability_365'].plot(kind = 'kde')\n",
    "plt.vlines(x = df['availability_365'].mean(), ymax = 0.004, ymin = 0, color = 'r')\n",
    "plt.vlines(x = df['availability_365'].median(), ymax = 0.004, ymin = 0, color = 'g')"
   ]
  },
  {
   "cell_type": "markdown",
   "id": "1267f93b",
   "metadata": {},
   "source": [
    "Here, we can observe that the data is not a normally distributed data. "
   ]
  },
  {
   "cell_type": "code",
   "execution_count": 27,
   "id": "24e968fd",
   "metadata": {
    "scrolled": false
   },
   "outputs": [
    {
     "data": {
      "text/plain": [
       "<matplotlib.collections.LineCollection at 0x19d42dc2470>"
      ]
     },
     "execution_count": 27,
     "metadata": {},
     "output_type": "execute_result"
    },
    {
     "data": {
      "image/png": "[encoded data removed]",
      "text/plain": [
       "<Figure size 640x480 with 1 Axes>"
      ]
     },
     "metadata": {},
     "output_type": "display_data"
    }
   ],
   "source": [
    "# Plotting the histogram of availability_365 along with mean and median values\n",
    "df['availability_365'].plot(kind = 'hist')\n",
    "plt.vlines(x = df['availability_365'].mean(), ymax = 0.004, ymin = 0, color = 'r')\n",
    "plt.vlines(x = df['availability_365'].median(), ymax = 0.004, ymin = 0, color = 'g')"
   ]
  },
  {
   "cell_type": "markdown",
   "id": "3d42766b",
   "metadata": {},
   "source": [
    "We will replace the missing values of availability_365 by the following:\n",
    "    1) `median of availability of the same room type in its neighbourhood`\n",
    "  If there are no accommodations with same room type, then \n",
    "    2) `median of availability of its neighbourhood`\n",
    "    "
   ]
  },
  {
   "cell_type": "code",
   "execution_count": 28,
   "id": "004ebb3e",
   "metadata": {},
   "outputs": [
    {
     "name": "stdout",
     "output_type": "stream",
     "text": [
      "Haringey                 -Private room : 252.0,Entire home/apt : 160.0,Shared room : 252.0,\n",
      "Waltham Forest           -Private room : 222.0,Entire home/apt : 64.0,Shared room : 222.0,\n",
      "Hammersmith and Fulham   -Private room : 281.5,Entire home/apt : 179.0,Shared room : 364.0,Hotel room : 351.0,\n",
      "Croydon                  -Entire home/apt : 43.0,Private room : 173.0,Shared room : 173.0,\n",
      "Lambeth                  -Private room : 263.0,Entire home/apt : 186.0,Shared room : 186.0,\n",
      "Kensington and Chelsea   -Entire home/apt : 206.0,Private room : 308.0,Shared room : 227.0,\n",
      "Islington                -Entire home/apt : 206.0,Private room : 90.5,Shared room : 206.0,Hotel room : 206.0,\n",
      "Havering                 -Entire home/apt : 364.0,Private room : 92.0,\n",
      "Westminster              -Private room : 167.0,Entire home/apt : 217.0,Shared room : 217.0,\n",
      "Greenwich                -Private room : 344.0,Entire home/apt : 365.0,\n",
      "Hounslow                 -Entire home/apt : 193.0,Private room : 200.5,\n",
      "Lewisham                 -Entire home/apt : 133.0,Private room : 237.0,Shared room : 173.0,\n",
      "Richmond upon Thames     -Private room : 151.5,Entire home/apt : 299.5,Shared room : 299.5,\n",
      "Tower Hamlets            -Private room : 268.5,Entire home/apt : 185.0,Shared room : 363.0,\n",
      "Southwark                -Entire home/apt : 103.0,Private room : 194.0,Shared room : 148.0,\n",
      "Hackney                  -Entire home/apt : 166.0,Private room : 223.5,Shared room : 166.0,\n",
      "Camden                   -Entire home/apt : 179.0,Private room : 315.0,Shared room : 307.0,\n",
      "Newham                   -Private room : 312.0,Entire home/apt : 313.0,Shared room : 312.0,\n",
      "Hillingdon               -Private room : 215.0,Entire home/apt : 308.5,\n",
      "Brent                    -Entire home/apt : 111.5,Private room : 211.0,\n",
      "Merton                   -Private room : 178.0,Entire home/apt : 191.5,\n",
      "Barking and Dagenham     -Private room : 253.0,Entire home/apt : 227.0,\n",
      "Wandsworth               -Entire home/apt : 173.0,Private room : 253.0,\n",
      "Redbridge                -Private room : 364.5,Entire home/apt : 354.5,\n",
      "Barnet                   -Private room : 233.0,Entire home/apt : 260.0,Shared room : 253.0,\n",
      "Bromley                  -Private room : 331.0,Entire home/apt : 8.0,Shared room : 331.0,\n",
      "Enfield                  -Private room : 187.0,Shared room : 187.0,Entire home/apt : 252.0,Hotel room : 208.0,\n",
      "Ealing                   -Private room : 177.0,Entire home/apt : 179.0,Shared room : 350.0,\n",
      "Bexley                   -Private room : 353.0,Entire home/apt : 353.0,\n",
      "City of London           -Entire home/apt : 233.5,Private room : 233.5,Shared room : 233.5,\n",
      "Kingston upon Thames     -Entire home/apt : 255.5,Private room : 283.5,\n",
      "Sutton                   -Private room : 179.5,Entire home/apt : 358.0,Shared room : 179.5,\n",
      "Harrow                   -Private room : 223.5,Entire home/apt : 56.5,\n"
     ]
    }
   ],
   "source": [
    "# Replacing the null values in availability_365 columns\n",
    "\n",
    "# outer loop for neighbourhoods\n",
    "for n in df['neighbourhood'].dropna().unique():\n",
    "    print('{:<25}'.format(n), end = '-')\n",
    "    \n",
    "    # inner loop for room_type\n",
    "    for r in df[df['neighbourhood'] == n]['room_type'].dropna().unique():\n",
    "        \n",
    "        df_a = df[(df['neighbourhood'] == n) & (df['room_type'] == r)]['availability_365'] # get availability_365 \n",
    "\n",
    "        if df_a.isna().sum() != 0:                            # checking if there are any null values\n",
    "            value = df_a.median()                             # calculating the median\n",
    "            if df_a.isna().sum() == len(df_a):                # checking if there are all null values\n",
    "                value = df[df['neighbourhood'] == n]['availability_365'].median()   \n",
    "            \n",
    "            # replacing the values by using index\n",
    "            index = df_a[df_a.isna()].index                   \n",
    "            df.loc[index, 'availability_365'] = value\n",
    "            \n",
    "            print(r, ':', value, end = ',')\n",
    "    print()\n"
   ]
  },
  {
   "cell_type": "code",
   "execution_count": 29,
   "id": "33ded20d",
   "metadata": {},
   "outputs": [
    {
     "name": "stdout",
     "output_type": "stream",
     "text": [
      "<class 'pandas.core.series.Series'>\n",
      "RangeIndex: 11732 entries, 0 to 11731\n",
      "Series name: availability_365\n",
      "Non-Null Count  Dtype  \n",
      "--------------  -----  \n",
      "11732 non-null  float64\n",
      "dtypes: float64(1)\n",
      "memory usage: 91.8 KB\n"
     ]
    }
   ],
   "source": [
    "# Displaying the info of availability_365\n",
    "df['availability_365'].info()"
   ]
  },
  {
   "cell_type": "code",
   "execution_count": 30,
   "id": "2f5f3edd",
   "metadata": {},
   "outputs": [
    {
     "name": "stdout",
     "output_type": "stream",
     "text": [
      "1\n",
      "1\n",
      "1\n"
     ]
    }
   ],
   "source": [
    "# Displaying the accommodations of 3 hosts\n",
    "for i in df[df['host_name'].isna()].host_id:\n",
    "    print(len(df[df['host_id'] == i]))"
   ]
  },
  {
   "cell_type": "markdown",
   "id": "68e8c453",
   "metadata": {},
   "source": [
    "Since there are no other records related to those host_id's, we will drop the these 3 records"
   ]
  },
  {
   "cell_type": "code",
   "execution_count": 31,
   "id": "934cd884",
   "metadata": {},
   "outputs": [],
   "source": [
    "# Dropping the records where host_name is not available\n",
    "df.dropna(inplace = True)"
   ]
  },
  {
   "cell_type": "code",
   "execution_count": 32,
   "id": "3d1dcc4e",
   "metadata": {},
   "outputs": [
    {
     "name": "stdout",
     "output_type": "stream",
     "text": [
      "<class 'pandas.core.frame.DataFrame'>\n",
      "Int64Index: 11729 entries, 0 to 11731\n",
      "Data columns (total 15 columns):\n",
      " #   Column                          Non-Null Count  Dtype         \n",
      "---  ------                          --------------  -----         \n",
      " 0   id                              11729 non-null  int64         \n",
      " 1   name                            11729 non-null  object        \n",
      " 2   host_id                         11729 non-null  int64         \n",
      " 3   host_name                       11729 non-null  object        \n",
      " 4   neighbourhood                   11729 non-null  object        \n",
      " 5   latitude                        11729 non-null  float64       \n",
      " 6   longitude                       11729 non-null  float64       \n",
      " 7   room_type                       11729 non-null  object        \n",
      " 8   price                           11729 non-null  int64         \n",
      " 9   minimum_nights                  11729 non-null  float64       \n",
      " 10  number_of_reviews               11729 non-null  int64         \n",
      " 11  last_review                     11729 non-null  datetime64[ns]\n",
      " 12  reviews_per_month               11729 non-null  float64       \n",
      " 13  calculated_host_listings_count  11729 non-null  int64         \n",
      " 14  availability_365                11729 non-null  float64       \n",
      "dtypes: datetime64[ns](1), float64(5), int64(5), object(4)\n",
      "memory usage: 1.4+ MB\n"
     ]
    }
   ],
   "source": [
    "df.info()"
   ]
  },
  {
   "cell_type": "code",
   "execution_count": 33,
   "id": "9cb013df",
   "metadata": {},
   "outputs": [
    {
     "name": "stdout",
     "output_type": "stream",
     "text": [
      "There are 11729 rows and 15 columns in final dataset\n",
      "The null values in dataset are 0\n"
     ]
    }
   ],
   "source": [
    "print(\"There are %d rows and %d columns in final dataset\"%(df.shape[0], df.shape[1]))\n",
    "print(\"The null values in dataset are\",df.isna().sum().sum())"
   ]
  },
  {
   "cell_type": "markdown",
   "id": "283ba231",
   "metadata": {},
   "source": [
    "## Questions"
   ]
  },
  {
   "cell_type": "markdown",
   "id": "4abbf790",
   "metadata": {},
   "source": [
    "### 1) Display the top most neighbourhood having more than average number of accommodations?"
   ]
  },
  {
   "cell_type": "markdown",
   "id": "b1c85aa5",
   "metadata": {},
   "source": [
    "<b>Approach:</b> Let us observe the number of accomodations available in each neighbourhood. Then calculate the average number of accomodations availabale per neighbourhood."
   ]
  },
  {
   "cell_type": "code",
   "execution_count": 34,
   "id": "149de596",
   "metadata": {},
   "outputs": [
    {
     "data": {
      "text/html": [
       "<div>\n",
       "<style scoped>\n",
       "    .dataframe tbody tr th:only-of-type {\n",
       "        vertical-align: middle;\n",
       "    }\n",
       "\n",
       "    .dataframe tbody tr th {\n",
       "        vertical-align: top;\n",
       "    }\n",
       "\n",
       "    .dataframe thead th {\n",
       "        text-align: right;\n",
       "    }\n",
       "</style>\n",
       "<table border=\"1\" class=\"dataframe\">\n",
       "  <thead>\n",
       "    <tr style=\"text-align: right;\">\n",
       "      <th></th>\n",
       "      <th>count</th>\n",
       "    </tr>\n",
       "    <tr>\n",
       "      <th>neighbourhood</th>\n",
       "      <th></th>\n",
       "    </tr>\n",
       "  </thead>\n",
       "  <tbody>\n",
       "    <tr>\n",
       "      <th>Barking and Dagenham</th>\n",
       "      <td>28</td>\n",
       "    </tr>\n",
       "    <tr>\n",
       "      <th>Barnet</th>\n",
       "      <td>172</td>\n",
       "    </tr>\n",
       "    <tr>\n",
       "      <th>Bexley</th>\n",
       "      <td>35</td>\n",
       "    </tr>\n",
       "    <tr>\n",
       "      <th>Brent</th>\n",
       "      <td>298</td>\n",
       "    </tr>\n",
       "    <tr>\n",
       "      <th>Bromley</th>\n",
       "      <td>70</td>\n",
       "    </tr>\n",
       "  </tbody>\n",
       "</table>\n",
       "</div>"
      ],
      "text/plain": [
       "                      count\n",
       "neighbourhood              \n",
       "Barking and Dagenham     28\n",
       "Barnet                  172\n",
       "Bexley                   35\n",
       "Brent                   298\n",
       "Bromley                  70"
      ]
     },
     "execution_count": 34,
     "metadata": {},
     "output_type": "execute_result"
    }
   ],
   "source": [
    "# Grouping the id's by neighbourhood\n",
    "df_neighbourhood = df[['id', 'neighbourhood']].groupby(['neighbourhood']).count()\n",
    "\n",
    "# renaming the id column to count \n",
    "df_neighbourhood.rename(columns={'id' : 'count'}, inplace = True)\n",
    "df_neighbourhood.head()"
   ]
  },
  {
   "cell_type": "code",
   "execution_count": 35,
   "id": "60126564",
   "metadata": {},
   "outputs": [
    {
     "data": {
      "text/plain": [
       "355"
      ]
     },
     "execution_count": 35,
     "metadata": {},
     "output_type": "execute_result"
    }
   ],
   "source": [
    "# Calculating the average by dividing number of accommodations with number of neighbourhood\n",
    "average = round(df['id'].shape[0] / df_neighbourhood.shape[0])\n",
    "average"
   ]
  },
  {
   "cell_type": "code",
   "execution_count": 36,
   "id": "26779393",
   "metadata": {},
   "outputs": [
    {
     "data": {
      "image/png": "[encoded data removed]",
      "text/plain": [
       "<Figure size 640x480 with 1 Axes>"
      ]
     },
     "metadata": {},
     "output_type": "display_data"
    }
   ],
   "source": [
    "# plotting the bar graph of neighbourhood vs count of accommodations\n",
    "df_neighbourhood.plot(kind = 'bar')\n",
    "\n",
    "# plotting the average price\n",
    "plt.hlines(y = average, xmin = 0, xmax = df_neighbourhood.shape[0] + 1)\n",
    "\n",
    "# Labelling the plot\n",
    "plt.title(\"Number of Accommodations\")\n",
    "plt.xlabel(\"Neighbourhood\")\n",
    "plt.ylabel(\"Number of Accomodations\")\n",
    "plt.show()"
   ]
  },
  {
   "cell_type": "markdown",
   "id": "c38fcdb1",
   "metadata": {},
   "source": [
    "<b>Observation<b>"
   ]
  },
  {
   "cell_type": "code",
   "execution_count": 37,
   "id": "d2e63ee0",
   "metadata": {},
   "outputs": [
    {
     "name": "stdout",
     "output_type": "stream",
     "text": [
      "The Hackney is the most available location with 1363 accomodations.\n"
     ]
    }
   ],
   "source": [
    "# Getting the maximum accommodations \n",
    "df_max_count = df_neighbourhood[df_neighbourhood['count'] == df_neighbourhood['count'].max()]\n",
    "print(\"The %so is the most available location with %d accomodations.\"%(df_max_count.index[0], df_max_count.values[0]))\n",
    "    "
   ]
  },
  {
   "cell_type": "code",
   "execution_count": 38,
   "id": "7e13aa45",
   "metadata": {},
   "outputs": [
    {
     "name": "stdout",
     "output_type": "stream",
     "text": [
      "There are 12 neighbourhoods which have more than average number of accommodations\n"
     ]
    }
   ],
   "source": [
    "print(\"There are %d neighbourhoods which have more than average number of accommodations\"%df_neighbourhood[df_neighbourhood['count'] >= average].shape[0])"
   ]
  },
  {
   "cell_type": "markdown",
   "id": "4bec88b9",
   "metadata": {},
   "source": [
    "### 2) Find the neighbourhood which is making more money annually by calculating the annual returns of each accomodation ?"
   ]
  },
  {
   "cell_type": "markdown",
   "id": "1035f579",
   "metadata": {},
   "source": [
    "<b>Approach:</b>To calculate the money earned by each accomodation, we need to consider price per day and number of days the place is available"
   ]
  },
  {
   "cell_type": "code",
   "execution_count": 39,
   "id": "97314c3f",
   "metadata": {
    "scrolled": false
   },
   "outputs": [
    {
     "data": {
      "text/html": [
       "<div>\n",
       "<style scoped>\n",
       "    .dataframe tbody tr th:only-of-type {\n",
       "        vertical-align: middle;\n",
       "    }\n",
       "\n",
       "    .dataframe tbody tr th {\n",
       "        vertical-align: top;\n",
       "    }\n",
       "\n",
       "    .dataframe thead th {\n",
       "        text-align: right;\n",
       "    }\n",
       "</style>\n",
       "<table border=\"1\" class=\"dataframe\">\n",
       "  <thead>\n",
       "    <tr style=\"text-align: right;\">\n",
       "      <th></th>\n",
       "      <th>earnings</th>\n",
       "    </tr>\n",
       "    <tr>\n",
       "      <th>neighbourhood</th>\n",
       "      <th></th>\n",
       "    </tr>\n",
       "  </thead>\n",
       "  <tbody>\n",
       "    <tr>\n",
       "      <th>Barking and Dagenham</th>\n",
       "      <td>494446.0</td>\n",
       "    </tr>\n",
       "    <tr>\n",
       "      <th>Barnet</th>\n",
       "      <td>3386575.0</td>\n",
       "    </tr>\n",
       "    <tr>\n",
       "      <th>Bexley</th>\n",
       "      <td>592788.0</td>\n",
       "    </tr>\n",
       "    <tr>\n",
       "      <th>Brent</th>\n",
       "      <td>4154910.0</td>\n",
       "    </tr>\n",
       "    <tr>\n",
       "      <th>Bromley</th>\n",
       "      <td>731171.0</td>\n",
       "    </tr>\n",
       "  </tbody>\n",
       "</table>\n",
       "</div>"
      ],
      "text/plain": [
       "                       earnings\n",
       "neighbourhood                  \n",
       "Barking and Dagenham   494446.0\n",
       "Barnet                3386575.0\n",
       "Bexley                 592788.0\n",
       "Brent                 4154910.0\n",
       "Bromley                731171.0"
      ]
     },
     "execution_count": 39,
     "metadata": {},
     "output_type": "execute_result"
    }
   ],
   "source": [
    "# Calculating the yearly pay by multiplying price per day with availability_365\n",
    "df['earnings'] = df['price'] * df['availability_365']\n",
    "\n",
    "# Calculating the entire earnings of neighbourhood\n",
    "df_earnings = df[['neighbourhood', 'earnings']].groupby('neighbourhood').sum('earnings')\n",
    "df_earnings.head()"
   ]
  },
  {
   "cell_type": "code",
   "execution_count": 40,
   "id": "d8cbe4c8",
   "metadata": {},
   "outputs": [
    {
     "data": {
      "image/png": "[encoded data removed]",
      "text/plain": [
       "<Figure size 640x480 with 1 Axes>"
      ]
     },
     "metadata": {},
     "output_type": "display_data"
    }
   ],
   "source": [
    "# Plotting the horizontal bar graph\n",
    "df_earnings.plot(kind = 'barh')\n",
    "\n",
    "plt.title(\"Earnings from neighbourhoods\")\n",
    "plt.xlabel(\"Earnings in 10's millions\")\n",
    "plt.show()"
   ]
  },
  {
   "cell_type": "markdown",
   "id": "17ee80c9",
   "metadata": {},
   "source": [
    "<b>observation<b>"
   ]
  },
  {
   "cell_type": "code",
   "execution_count": 41,
   "id": "99a5759b",
   "metadata": {},
   "outputs": [
    {
     "name": "stdout",
     "output_type": "stream",
     "text": [
      "The neighbourhood that makes more income than other is\n"
     ]
    },
    {
     "data": {
      "text/html": [
       "<div>\n",
       "<style scoped>\n",
       "    .dataframe tbody tr th:only-of-type {\n",
       "        vertical-align: middle;\n",
       "    }\n",
       "\n",
       "    .dataframe tbody tr th {\n",
       "        vertical-align: top;\n",
       "    }\n",
       "\n",
       "    .dataframe thead th {\n",
       "        text-align: right;\n",
       "    }\n",
       "</style>\n",
       "<table border=\"1\" class=\"dataframe\">\n",
       "  <thead>\n",
       "    <tr style=\"text-align: right;\">\n",
       "      <th></th>\n",
       "      <th>earnings</th>\n",
       "    </tr>\n",
       "    <tr>\n",
       "      <th>neighbourhood</th>\n",
       "      <th></th>\n",
       "    </tr>\n",
       "  </thead>\n",
       "  <tbody>\n",
       "    <tr>\n",
       "      <th>Westminster</th>\n",
       "      <td>28118975.0</td>\n",
       "    </tr>\n",
       "  </tbody>\n",
       "</table>\n",
       "</div>"
      ],
      "text/plain": [
       "                 earnings\n",
       "neighbourhood            \n",
       "Westminster    28118975.0"
      ]
     },
     "metadata": {},
     "output_type": "display_data"
    }
   ],
   "source": [
    "print('The neighbourhood that makes more income than other is')\n",
    "display(df_earnings[df_earnings.earnings == df_earnings.max().values[0]])\n"
   ]
  },
  {
   "cell_type": "markdown",
   "id": "65d08c31",
   "metadata": {},
   "source": [
    "### 3) Compare the number of accommodations available for each host and the earnings of their accommodations. Find the top 10 host with more accommodations?"
   ]
  },
  {
   "cell_type": "markdown",
   "id": "2b6ed260",
   "metadata": {},
   "source": [
    "<b>Approach:</b>Calculate the number of accoummodations and sum of earnings for each host using host_id. Join the two datasets using the host_id"
   ]
  },
  {
   "cell_type": "code",
   "execution_count": 42,
   "id": "d55683c9",
   "metadata": {},
   "outputs": [
    {
     "data": {
      "text/html": [
       "<div>\n",
       "<style scoped>\n",
       "    .dataframe tbody tr th:only-of-type {\n",
       "        vertical-align: middle;\n",
       "    }\n",
       "\n",
       "    .dataframe tbody tr th {\n",
       "        vertical-align: top;\n",
       "    }\n",
       "\n",
       "    .dataframe thead th {\n",
       "        text-align: right;\n",
       "    }\n",
       "</style>\n",
       "<table border=\"1\" class=\"dataframe\">\n",
       "  <thead>\n",
       "    <tr style=\"text-align: right;\">\n",
       "      <th></th>\n",
       "      <th>count</th>\n",
       "    </tr>\n",
       "    <tr>\n",
       "      <th>host_id</th>\n",
       "      <th></th>\n",
       "    </tr>\n",
       "  </thead>\n",
       "  <tbody>\n",
       "    <tr>\n",
       "      <th>28820321</th>\n",
       "      <td>119</td>\n",
       "    </tr>\n",
       "    <tr>\n",
       "      <th>123548209</th>\n",
       "      <td>27</td>\n",
       "    </tr>\n",
       "    <tr>\n",
       "      <th>33889201</th>\n",
       "      <td>18</td>\n",
       "    </tr>\n",
       "    <tr>\n",
       "      <th>146594021</th>\n",
       "      <td>9</td>\n",
       "    </tr>\n",
       "    <tr>\n",
       "      <th>1111601</th>\n",
       "      <td>9</td>\n",
       "    </tr>\n",
       "    <tr>\n",
       "      <th>...</th>\n",
       "      <td>...</td>\n",
       "    </tr>\n",
       "    <tr>\n",
       "      <th>17414659</th>\n",
       "      <td>1</td>\n",
       "    </tr>\n",
       "    <tr>\n",
       "      <th>17438243</th>\n",
       "      <td>1</td>\n",
       "    </tr>\n",
       "    <tr>\n",
       "      <th>17440224</th>\n",
       "      <td>1</td>\n",
       "    </tr>\n",
       "    <tr>\n",
       "      <th>17440479</th>\n",
       "      <td>1</td>\n",
       "    </tr>\n",
       "    <tr>\n",
       "      <th>332909466</th>\n",
       "      <td>1</td>\n",
       "    </tr>\n",
       "  </tbody>\n",
       "</table>\n",
       "<p>10768 rows × 1 columns</p>\n",
       "</div>"
      ],
      "text/plain": [
       "           count\n",
       "host_id         \n",
       "28820321     119\n",
       "123548209     27\n",
       "33889201      18\n",
       "146594021      9\n",
       "1111601        9\n",
       "...          ...\n",
       "17414659       1\n",
       "17438243       1\n",
       "17440224       1\n",
       "17440479       1\n",
       "332909466      1\n",
       "\n",
       "[10768 rows x 1 columns]"
      ]
     },
     "execution_count": 42,
     "metadata": {},
     "output_type": "execute_result"
    }
   ],
   "source": [
    "# Count the ids of each host\n",
    "df_host = df[['id','host_id']].groupby('host_id').count()\n",
    "\n",
    "# renaming the column from id to count\n",
    "df_host.rename(columns = {'id' : 'count'}, inplace = True)\n",
    "\n",
    "# sorting the values by count\n",
    "df_host.sort_values(by = 'count', ascending = False, inplace = True)\n",
    "df_host"
   ]
  },
  {
   "cell_type": "code",
   "execution_count": 43,
   "id": "d4954050",
   "metadata": {},
   "outputs": [
    {
     "data": {
      "text/html": [
       "<div>\n",
       "<style scoped>\n",
       "    .dataframe tbody tr th:only-of-type {\n",
       "        vertical-align: middle;\n",
       "    }\n",
       "\n",
       "    .dataframe tbody tr th {\n",
       "        vertical-align: top;\n",
       "    }\n",
       "\n",
       "    .dataframe thead th {\n",
       "        text-align: right;\n",
       "    }\n",
       "</style>\n",
       "<table border=\"1\" class=\"dataframe\">\n",
       "  <thead>\n",
       "    <tr style=\"text-align: right;\">\n",
       "      <th></th>\n",
       "      <th>count</th>\n",
       "      <th>earnings</th>\n",
       "      <th>rank</th>\n",
       "    </tr>\n",
       "    <tr>\n",
       "      <th>host_id</th>\n",
       "      <th></th>\n",
       "      <th></th>\n",
       "      <th></th>\n",
       "    </tr>\n",
       "  </thead>\n",
       "  <tbody>\n",
       "    <tr>\n",
       "      <th>28820321</th>\n",
       "      <td>119</td>\n",
       "      <td>2621617.5</td>\n",
       "      <td>5189</td>\n",
       "    </tr>\n",
       "    <tr>\n",
       "      <th>123548209</th>\n",
       "      <td>27</td>\n",
       "      <td>710700.0</td>\n",
       "      <td>9387</td>\n",
       "    </tr>\n",
       "    <tr>\n",
       "      <th>33889201</th>\n",
       "      <td>18</td>\n",
       "      <td>4316088.0</td>\n",
       "      <td>5762</td>\n",
       "    </tr>\n",
       "    <tr>\n",
       "      <th>146594021</th>\n",
       "      <td>9</td>\n",
       "      <td>2105850.0</td>\n",
       "      <td>9860</td>\n",
       "    </tr>\n",
       "    <tr>\n",
       "      <th>1111601</th>\n",
       "      <td>9</td>\n",
       "      <td>210813.0</td>\n",
       "      <td>256</td>\n",
       "    </tr>\n",
       "    <tr>\n",
       "      <th>4209940</th>\n",
       "      <td>8</td>\n",
       "      <td>587331.0</td>\n",
       "      <td>1292</td>\n",
       "    </tr>\n",
       "    <tr>\n",
       "      <th>10961046</th>\n",
       "      <td>7</td>\n",
       "      <td>325556.0</td>\n",
       "      <td>2735</td>\n",
       "    </tr>\n",
       "    <tr>\n",
       "      <th>11178474</th>\n",
       "      <td>7</td>\n",
       "      <td>47613.0</td>\n",
       "      <td>2782</td>\n",
       "    </tr>\n",
       "    <tr>\n",
       "      <th>114041206</th>\n",
       "      <td>7</td>\n",
       "      <td>177982.0</td>\n",
       "      <td>9208</td>\n",
       "    </tr>\n",
       "    <tr>\n",
       "      <th>23234040</th>\n",
       "      <td>6</td>\n",
       "      <td>119212.5</td>\n",
       "      <td>4515</td>\n",
       "    </tr>\n",
       "  </tbody>\n",
       "</table>\n",
       "</div>"
      ],
      "text/plain": [
       "           count   earnings  rank\n",
       "host_id                          \n",
       "28820321     119  2621617.5  5189\n",
       "123548209     27   710700.0  9387\n",
       "33889201      18  4316088.0  5762\n",
       "146594021      9  2105850.0  9860\n",
       "1111601        9   210813.0   256\n",
       "4209940        8   587331.0  1292\n",
       "10961046       7   325556.0  2735\n",
       "11178474       7    47613.0  2782\n",
       "114041206      7   177982.0  9208\n",
       "23234040       6   119212.5  4515"
      ]
     },
     "execution_count": 43,
     "metadata": {},
     "output_type": "execute_result"
    }
   ],
   "source": [
    "# Finding the earnings of each host\n",
    "df_earnings = df[['earnings', 'host_id']].groupby('host_id').sum('earnings')\n",
    "df_earnings['rank'] = np.arange(1, len(df_earnings) + 1)\n",
    "df_host.head(10).join(df_earnings)"
   ]
  },
  {
   "cell_type": "markdown",
   "id": "1b615ec1",
   "metadata": {},
   "source": [
    "<b>Observation</b>\n",
    "Even though Veronica is having 119 accommodations, this host is ranked at 58 in earnings. Where as Caroline with 9 accommodations, ranks at 4 in earnings"
   ]
  },
  {
   "cell_type": "markdown",
   "id": "e9957b1e",
   "metadata": {},
   "source": [
    "### 4) Find the average price of each neighbourhood and display the top 5 neighbourhoods which are expensive to stay?"
   ]
  },
  {
   "cell_type": "markdown",
   "id": "2ac304e7",
   "metadata": {},
   "source": [
    "<b>Approach:</b>Consider the neighbourhood and price columns. Calculate the average price of accomodations in the neighbourhood."
   ]
  },
  {
   "cell_type": "code",
   "execution_count": 44,
   "id": "e88e1739",
   "metadata": {},
   "outputs": [
    {
     "data": {
      "text/html": [
       "<div>\n",
       "<style scoped>\n",
       "    .dataframe tbody tr th:only-of-type {\n",
       "        vertical-align: middle;\n",
       "    }\n",
       "\n",
       "    .dataframe tbody tr th {\n",
       "        vertical-align: top;\n",
       "    }\n",
       "\n",
       "    .dataframe thead th {\n",
       "        text-align: right;\n",
       "    }\n",
       "</style>\n",
       "<table border=\"1\" class=\"dataframe\">\n",
       "  <thead>\n",
       "    <tr style=\"text-align: right;\">\n",
       "      <th></th>\n",
       "      <th>price</th>\n",
       "    </tr>\n",
       "    <tr>\n",
       "      <th>neighbourhood</th>\n",
       "      <th></th>\n",
       "    </tr>\n",
       "  </thead>\n",
       "  <tbody>\n",
       "    <tr>\n",
       "      <th>Barking and Dagenham</th>\n",
       "      <td>73.392857</td>\n",
       "    </tr>\n",
       "    <tr>\n",
       "      <th>Barnet</th>\n",
       "      <td>78.482558</td>\n",
       "    </tr>\n",
       "    <tr>\n",
       "      <th>Bexley</th>\n",
       "      <td>54.057143</td>\n",
       "    </tr>\n",
       "    <tr>\n",
       "      <th>Brent</th>\n",
       "      <td>96.258389</td>\n",
       "    </tr>\n",
       "    <tr>\n",
       "      <th>Bromley</th>\n",
       "      <td>60.328571</td>\n",
       "    </tr>\n",
       "  </tbody>\n",
       "</table>\n",
       "</div>"
      ],
      "text/plain": [
       "                          price\n",
       "neighbourhood                  \n",
       "Barking and Dagenham  73.392857\n",
       "Barnet                78.482558\n",
       "Bexley                54.057143\n",
       "Brent                 96.258389\n",
       "Bromley               60.328571"
      ]
     },
     "execution_count": 44,
     "metadata": {},
     "output_type": "execute_result"
    }
   ],
   "source": [
    "# Calculating the average price by grouping neighbourhood\n",
    "df_cost = df[['neighbourhood', 'price']].groupby('neighbourhood').mean('price')\n",
    "df_cost.head()"
   ]
  },
  {
   "cell_type": "code",
   "execution_count": 45,
   "id": "eb54b2f2",
   "metadata": {},
   "outputs": [
    {
     "name": "stdout",
     "output_type": "stream",
     "text": [
      "The top five neighbourhoods to stay are \n"
     ]
    },
    {
     "data": {
      "text/html": [
       "<div>\n",
       "<style scoped>\n",
       "    .dataframe tbody tr th:only-of-type {\n",
       "        vertical-align: middle;\n",
       "    }\n",
       "\n",
       "    .dataframe tbody tr th {\n",
       "        vertical-align: top;\n",
       "    }\n",
       "\n",
       "    .dataframe thead th {\n",
       "        text-align: right;\n",
       "    }\n",
       "</style>\n",
       "<table border=\"1\" class=\"dataframe\">\n",
       "  <thead>\n",
       "    <tr style=\"text-align: right;\">\n",
       "      <th></th>\n",
       "      <th>price</th>\n",
       "    </tr>\n",
       "    <tr>\n",
       "      <th>neighbourhood</th>\n",
       "      <th></th>\n",
       "    </tr>\n",
       "  </thead>\n",
       "  <tbody>\n",
       "    <tr>\n",
       "      <th>Kensington and Chelsea</th>\n",
       "      <td>162.980036</td>\n",
       "    </tr>\n",
       "    <tr>\n",
       "      <th>Westminster</th>\n",
       "      <td>158.470660</td>\n",
       "    </tr>\n",
       "    <tr>\n",
       "      <th>City of London</th>\n",
       "      <td>142.285714</td>\n",
       "    </tr>\n",
       "    <tr>\n",
       "      <th>Richmond upon Thames</th>\n",
       "      <td>141.309524</td>\n",
       "    </tr>\n",
       "    <tr>\n",
       "      <th>Camden</th>\n",
       "      <td>133.872648</td>\n",
       "    </tr>\n",
       "  </tbody>\n",
       "</table>\n",
       "</div>"
      ],
      "text/plain": [
       "                             price\n",
       "neighbourhood                     \n",
       "Kensington and Chelsea  162.980036\n",
       "Westminster             158.470660\n",
       "City of London          142.285714\n",
       "Richmond upon Thames    141.309524\n",
       "Camden                  133.872648"
      ]
     },
     "execution_count": 45,
     "metadata": {},
     "output_type": "execute_result"
    }
   ],
   "source": [
    "# Sorting the dataframe in descending order of price\n",
    "df_cost.sort_values(by = 'price', ascending = False, inplace = True)\n",
    "print(\"The top five neighbourhoods to stay are \")\n",
    "df_cost.head(5)"
   ]
  },
  {
   "cell_type": "markdown",
   "id": "078ce6a2",
   "metadata": {},
   "source": [
    "<b>Observation</b>"
   ]
  },
  {
   "cell_type": "markdown",
   "id": "c79e5efe",
   "metadata": {},
   "source": [
    "From the above table, we can see that `Kensington and Chelsea` is having the higher average cost "
   ]
  },
  {
   "cell_type": "code",
   "execution_count": 46,
   "id": "1a2c0139",
   "metadata": {},
   "outputs": [
    {
     "name": "stdout",
     "output_type": "stream",
     "text": [
      "Kensington and Chelsea is the expensive neighbourhood to stay which includes more than 50 percent of accommodations having prices greater than 114.00 per night\n"
     ]
    }
   ],
   "source": [
    "# Getting the data of 'Kensington and Chelsea'\n",
    "df_KC = df[df['neighbourhood'] == 'Kensington and Chelsea']['price']\n",
    "print(\"%s is the expensive neighbourhood to stay which includes more than 50 percent of accommodations having\"\n",
    "      \" prices greater than %.2f per night\"%(\n",
    "    df_cost[df_cost['price'] == df_cost.price.max()].index[0],\n",
    "    df_KC.median())\n",
    ")"
   ]
  },
  {
   "cell_type": "markdown",
   "id": "745e9a66",
   "metadata": {},
   "source": [
    "### 5) Categorize the accommodations based on reviews received per month and find out which neighbourhood have more accommodations in the better range?"
   ]
  },
  {
   "cell_type": "markdown",
   "id": "6e71eb6b",
   "metadata": {},
   "source": [
    "<b>Approach:</b>Divide the reviews_per_month values into ranges by obserbing the box plot. Assign good, better and average to each accommodations based on the range limits. "
   ]
  },
  {
   "cell_type": "code",
   "execution_count": 47,
   "id": "5a1a98b2",
   "metadata": {},
   "outputs": [
    {
     "data": {
      "text/plain": [
       "<AxesSubplot: >"
      ]
     },
     "execution_count": 47,
     "metadata": {},
     "output_type": "execute_result"
    },
    {
     "data": {
      "image/png": "[encoded data removed]",
      "text/plain": [
       "<Figure size 640x480 with 1 Axes>"
      ]
     },
     "metadata": {},
     "output_type": "display_data"
    }
   ],
   "source": [
    "df['reviews_per_month'].plot.box()"
   ]
  },
  {
   "cell_type": "markdown",
   "id": "3fdd9546",
   "metadata": {},
   "source": [
    "From the above plot, we conclude that there are some outliers in the data.\n",
    "Lets categorize by following:\n",
    "1) 0.01 to 0.04 as average\n",
    "\n",
    "2) 0.04 to 0.75 as good\n",
    "\n",
    "3) 0.75 to 3.73 as better"
   ]
  },
  {
   "cell_type": "code",
   "execution_count": 48,
   "id": "dc212b7b",
   "metadata": {},
   "outputs": [
    {
     "data": {
      "text/plain": [
       "average    6123\n",
       "good       5446\n",
       "better      160\n",
       "Name: reviews_category, dtype: int64"
      ]
     },
     "execution_count": 48,
     "metadata": {},
     "output_type": "execute_result"
    }
   ],
   "source": [
    "# Assigning the value based on reviews_per_month\n",
    "df['reviews_category'] = np.select([df['reviews_per_month'] <= 0.04, \n",
    "                     df['reviews_per_month'] <= 0.75,\n",
    "                     df['reviews_per_month'] <= 3.73],\n",
    "          ['average', 'good', 'better'])\n",
    "\n",
    "# Finding how many accommodations fall into these categories\n",
    "df['reviews_category'].value_counts()"
   ]
  },
  {
   "cell_type": "code",
   "execution_count": 49,
   "id": "b8577df2",
   "metadata": {},
   "outputs": [
    {
     "data": {
      "text/plain": [
       "Southwark        18\n",
       "Tower Hamlets    15\n",
       "Westminster      14\n",
       "Islington        13\n",
       "Hackney          10\n",
       "Name: neighbourhood, dtype: int64"
      ]
     },
     "execution_count": 49,
     "metadata": {},
     "output_type": "execute_result"
    }
   ],
   "source": [
    "# Displaying the count of accommodations from top 5 neighbourhoods \n",
    "df[df['reviews_category'] == 'better']['neighbourhood'].value_counts()[:5]"
   ]
  },
  {
   "cell_type": "markdown",
   "id": "e721ff59",
   "metadata": {},
   "source": [
    "<b>Observation</b>"
   ]
  },
  {
   "cell_type": "markdown",
   "id": "41aa5219",
   "metadata": {},
   "source": [
    "Most of the accommodations, 6123 will receive 0.01 to 0.04 reviews per month. Where as there are 160 accommodations receive more than 0.75. `Southwark` is the neighbourhood which has reviews better"
   ]
  },
  {
   "cell_type": "markdown",
   "id": "c41248a7",
   "metadata": {},
   "source": [
    "### 6) Calculate the reviews received by each host and find the top 5 hosts who has got highest number of reviews?"
   ]
  },
  {
   "cell_type": "markdown",
   "id": "1da519c5",
   "metadata": {},
   "source": [
    "<b>Approach:</b>Adding the number of received by each host by grouping with host_id."
   ]
  },
  {
   "cell_type": "code",
   "execution_count": 50,
   "id": "c3da3a7a",
   "metadata": {},
   "outputs": [
    {
     "data": {
      "text/html": [
       "<div>\n",
       "<style scoped>\n",
       "    .dataframe tbody tr th:only-of-type {\n",
       "        vertical-align: middle;\n",
       "    }\n",
       "\n",
       "    .dataframe tbody tr th {\n",
       "        vertical-align: top;\n",
       "    }\n",
       "\n",
       "    .dataframe thead th {\n",
       "        text-align: right;\n",
       "    }\n",
       "</style>\n",
       "<table border=\"1\" class=\"dataframe\">\n",
       "  <thead>\n",
       "    <tr style=\"text-align: right;\">\n",
       "      <th></th>\n",
       "      <th></th>\n",
       "      <th>number_of_reviews</th>\n",
       "    </tr>\n",
       "    <tr>\n",
       "      <th>host_id</th>\n",
       "      <th>host_name</th>\n",
       "      <th></th>\n",
       "    </tr>\n",
       "  </thead>\n",
       "  <tbody>\n",
       "    <tr>\n",
       "      <th>11431</th>\n",
       "      <th>Roberta</th>\n",
       "      <td>4</td>\n",
       "    </tr>\n",
       "    <tr>\n",
       "      <th>31655</th>\n",
       "      <th>Guy</th>\n",
       "      <td>11</td>\n",
       "    </tr>\n",
       "    <tr>\n",
       "      <th>32410</th>\n",
       "      <th>Fabio</th>\n",
       "      <td>0</td>\n",
       "    </tr>\n",
       "    <tr>\n",
       "      <th>37038</th>\n",
       "      <th>Charlotte</th>\n",
       "      <td>0</td>\n",
       "    </tr>\n",
       "    <tr>\n",
       "      <th>54987</th>\n",
       "      <th>TheSquare</th>\n",
       "      <td>7</td>\n",
       "    </tr>\n",
       "  </tbody>\n",
       "</table>\n",
       "</div>"
      ],
      "text/plain": [
       "                   number_of_reviews\n",
       "host_id host_name                   \n",
       "11431   Roberta                    4\n",
       "31655   Guy                       11\n",
       "32410   Fabio                      0\n",
       "37038   Charlotte                  0\n",
       "54987   TheSquare                  7"
      ]
     },
     "execution_count": 50,
     "metadata": {},
     "output_type": "execute_result"
    }
   ],
   "source": [
    "# Calculating the sum of reviews grouping by host_id\n",
    "df_host_reviews = df[['host_id', 'host_name', 'number_of_reviews']] \\\n",
    "                    .groupby(['host_id', 'host_name']) \\\n",
    "                    .sum('number_of_reviews')\n",
    "\n",
    "df_host_reviews.head()"
   ]
  },
  {
   "cell_type": "code",
   "execution_count": 51,
   "id": "37d0ddc8",
   "metadata": {},
   "outputs": [
    {
     "data": {
      "image/png": "[encoded data removed]",
      "text/plain": [
       "<Figure size 640x480 with 1 Axes>"
      ]
     },
     "metadata": {},
     "output_type": "display_data"
    }
   ],
   "source": [
    "# Sorting the data based on total reviews\n",
    "df_host_reviews.sort_values(by = 'number_of_reviews', ascending = False, inplace = True)\n",
    "\n",
    "# Plotting the var graph\n",
    "df_host_reviews.head(10).plot(kind = 'bar')\n",
    "plt.xticks(np.arange(10), df_host_reviews.index.get_level_values('host_name')[:10])\n",
    "plt.xlabel('Host Name')\n",
    "plt.ylabel('Number of reviews')\n",
    "plt.title('Number of reviews')\n",
    "plt.show()"
   ]
  },
  {
   "cell_type": "markdown",
   "id": "dec156ac",
   "metadata": {},
   "source": [
    "<b>Observation<b>"
   ]
  },
  {
   "cell_type": "code",
   "execution_count": 52,
   "id": "a6d8939e",
   "metadata": {},
   "outputs": [
    {
     "name": "stdout",
     "output_type": "stream",
     "text": [
      "Here are the host details who are in top 5 list in receiving reviews :\n",
      "1) Veronica with 1200 number of reviews.\n",
      "2) Jerome with 491 number of reviews.\n",
      "3) Loic with 370 number of reviews.\n",
      "4) Thanos with 265 number of reviews.\n",
      "5) Bruce&Julio with 257 number of reviews.\n"
     ]
    }
   ],
   "source": [
    "print(\"Here are the host details who are in top 5 list in receiving reviews :\")\n",
    "count = 1\n",
    "for row in df_host_reviews.reset_index('host_name')[['host_name', 'number_of_reviews']].head(5).values:\n",
    "    print(\"%d) %s with %d number of reviews.\"%(count, row[0], row[1]))\n",
    "    count += 1"
   ]
  },
  {
   "cell_type": "markdown",
   "id": "784599dc",
   "metadata": {},
   "source": [
    "Veronica is the host who has more number of reviews"
   ]
  },
  {
   "cell_type": "markdown",
   "id": "70e92d3d",
   "metadata": {},
   "source": [
    "### 7) Find the earnings of each host who are present in Westminster and how many host are ranked in top 10 earnings?"
   ]
  },
  {
   "cell_type": "markdown",
   "id": "7d4ae3ca",
   "metadata": {},
   "source": [
    "<b>Approach:</b>Calculate the earnings of each host and rank them accordingly. Extract the host ids who are located in Westminster and get the data for those host."
   ]
  },
  {
   "cell_type": "code",
   "execution_count": 53,
   "id": "a37ff427",
   "metadata": {},
   "outputs": [
    {
     "data": {
      "text/html": [
       "<div>\n",
       "<style scoped>\n",
       "    .dataframe tbody tr th:only-of-type {\n",
       "        vertical-align: middle;\n",
       "    }\n",
       "\n",
       "    .dataframe tbody tr th {\n",
       "        vertical-align: top;\n",
       "    }\n",
       "\n",
       "    .dataframe thead th {\n",
       "        text-align: right;\n",
       "    }\n",
       "</style>\n",
       "<table border=\"1\" class=\"dataframe\">\n",
       "  <thead>\n",
       "    <tr style=\"text-align: right;\">\n",
       "      <th></th>\n",
       "      <th>host_name</th>\n",
       "      <th>earnings</th>\n",
       "    </tr>\n",
       "    <tr>\n",
       "      <th>host_id</th>\n",
       "      <th></th>\n",
       "      <th></th>\n",
       "    </tr>\n",
       "  </thead>\n",
       "  <tbody>\n",
       "    <tr>\n",
       "      <th>33889201</th>\n",
       "      <td>Veeve</td>\n",
       "      <td>4316088.0</td>\n",
       "    </tr>\n",
       "    <tr>\n",
       "      <th>11511561</th>\n",
       "      <td>Balbinder</td>\n",
       "      <td>3547653.0</td>\n",
       "    </tr>\n",
       "    <tr>\n",
       "      <th>5484135</th>\n",
       "      <td>David</td>\n",
       "      <td>2920000.0</td>\n",
       "    </tr>\n",
       "    <tr>\n",
       "      <th>120691595</th>\n",
       "      <td>Zhixin</td>\n",
       "      <td>2631300.0</td>\n",
       "    </tr>\n",
       "    <tr>\n",
       "      <th>28820321</th>\n",
       "      <td>Veronica</td>\n",
       "      <td>2621617.5</td>\n",
       "    </tr>\n",
       "    <tr>\n",
       "      <th>146594021</th>\n",
       "      <td>Caroline</td>\n",
       "      <td>2105850.0</td>\n",
       "    </tr>\n",
       "    <tr>\n",
       "      <th>14398877</th>\n",
       "      <td>Alex</td>\n",
       "      <td>1820000.0</td>\n",
       "    </tr>\n",
       "    <tr>\n",
       "      <th>194367701</th>\n",
       "      <td>Daniel</td>\n",
       "      <td>1519000.0</td>\n",
       "    </tr>\n",
       "    <tr>\n",
       "      <th>63162841</th>\n",
       "      <td>Saiful</td>\n",
       "      <td>1329410.0</td>\n",
       "    </tr>\n",
       "    <tr>\n",
       "      <th>1299768</th>\n",
       "      <td>Qadar</td>\n",
       "      <td>1233596.0</td>\n",
       "    </tr>\n",
       "  </tbody>\n",
       "</table>\n",
       "</div>"
      ],
      "text/plain": [
       "           host_name   earnings\n",
       "host_id                        \n",
       "33889201       Veeve  4316088.0\n",
       "11511561   Balbinder  3547653.0\n",
       "5484135        David  2920000.0\n",
       "120691595     Zhixin  2631300.0\n",
       "28820321    Veronica  2621617.5\n",
       "146594021   Caroline  2105850.0\n",
       "14398877        Alex  1820000.0\n",
       "194367701     Daniel  1519000.0\n",
       "63162841      Saiful  1329410.0\n",
       "1299768        Qadar  1233596.0"
      ]
     },
     "execution_count": 53,
     "metadata": {},
     "output_type": "execute_result"
    }
   ],
   "source": [
    "# Creating a data with host and their earnings\n",
    "df_earnings = df[['earnings', 'host_id', 'host_name']].groupby(['host_id', 'host_name']).sum()\n",
    "df_earnings = df_earnings.reset_index('host_name')\n",
    "df_earnings.sort_values(by = 'earnings', ascending = False, inplace = True)\n",
    "df_earnings.head(10)"
   ]
  },
  {
   "cell_type": "code",
   "execution_count": 54,
   "id": "f30746df",
   "metadata": {},
   "outputs": [
    {
     "data": {
      "text/html": [
       "<div>\n",
       "<style scoped>\n",
       "    .dataframe tbody tr th:only-of-type {\n",
       "        vertical-align: middle;\n",
       "    }\n",
       "\n",
       "    .dataframe tbody tr th {\n",
       "        vertical-align: top;\n",
       "    }\n",
       "\n",
       "    .dataframe thead th {\n",
       "        text-align: right;\n",
       "    }\n",
       "</style>\n",
       "<table border=\"1\" class=\"dataframe\">\n",
       "  <thead>\n",
       "    <tr style=\"text-align: right;\">\n",
       "      <th></th>\n",
       "      <th>host_name</th>\n",
       "      <th>earnings</th>\n",
       "    </tr>\n",
       "    <tr>\n",
       "      <th>host_id</th>\n",
       "      <th></th>\n",
       "      <th></th>\n",
       "    </tr>\n",
       "  </thead>\n",
       "  <tbody>\n",
       "    <tr>\n",
       "      <th>33889201</th>\n",
       "      <td>Veeve</td>\n",
       "      <td>4316088.0</td>\n",
       "    </tr>\n",
       "    <tr>\n",
       "      <th>28820321</th>\n",
       "      <td>Veronica</td>\n",
       "      <td>2621617.5</td>\n",
       "    </tr>\n",
       "    <tr>\n",
       "      <th>146594021</th>\n",
       "      <td>Caroline</td>\n",
       "      <td>2105850.0</td>\n",
       "    </tr>\n",
       "    <tr>\n",
       "      <th>194367701</th>\n",
       "      <td>Daniel</td>\n",
       "      <td>1519000.0</td>\n",
       "    </tr>\n",
       "    <tr>\n",
       "      <th>1299768</th>\n",
       "      <td>Qadar</td>\n",
       "      <td>1233596.0</td>\n",
       "    </tr>\n",
       "  </tbody>\n",
       "</table>\n",
       "</div>"
      ],
      "text/plain": [
       "          host_name   earnings\n",
       "host_id                       \n",
       "33889201      Veeve  4316088.0\n",
       "28820321   Veronica  2621617.5\n",
       "146594021  Caroline  2105850.0\n",
       "194367701    Daniel  1519000.0\n",
       "1299768       Qadar  1233596.0"
      ]
     },
     "execution_count": 54,
     "metadata": {},
     "output_type": "execute_result"
    }
   ],
   "source": [
    "# getting the host ids of Westminster neighbourhood\n",
    "host_ids = df[df['neighbourhood'] == 'Westminster']['host_id'].values\n",
    "\n",
    "# Finding the common ids\n",
    "ids = []\n",
    "for host_id in df_earnings.head(10).index:\n",
    "    if host_id in host_ids:\n",
    "        ids.append(host_id)\n",
    "        \n",
    "# Displaying the information\n",
    "df_earnings.loc[ ids, ['host_name','earnings']]"
   ]
  },
  {
   "cell_type": "markdown",
   "id": "a51f310b",
   "metadata": {},
   "source": [
    "<b>Observation<b>"
   ]
  },
  {
   "cell_type": "markdown",
   "id": "fc3d5bea",
   "metadata": {},
   "source": [
    "4 hosts named Caroline, Qadar, Danny and Globe are in top 10 list who are based in Westminster location."
   ]
  },
  {
   "cell_type": "markdown",
   "id": "efb5dbf5",
   "metadata": {},
   "source": [
    "### 8) What are the total earnings of the accommodations in year and find out  which year has brought good earnings to AIRBNB?"
   ]
  },
  {
   "cell_type": "markdown",
   "id": "e7ec8460",
   "metadata": {},
   "source": [
    "<b>Approach:</b>Extract the year from last_review and Calculate the sum of earnings per year and find the maximum value."
   ]
  },
  {
   "cell_type": "code",
   "execution_count": 55,
   "id": "75dece3f",
   "metadata": {},
   "outputs": [
    {
     "data": {
      "text/html": [
       "<div>\n",
       "<style scoped>\n",
       "    .dataframe tbody tr th:only-of-type {\n",
       "        vertical-align: middle;\n",
       "    }\n",
       "\n",
       "    .dataframe tbody tr th {\n",
       "        vertical-align: top;\n",
       "    }\n",
       "\n",
       "    .dataframe thead th {\n",
       "        text-align: right;\n",
       "    }\n",
       "</style>\n",
       "<table border=\"1\" class=\"dataframe\">\n",
       "  <thead>\n",
       "    <tr style=\"text-align: right;\">\n",
       "      <th></th>\n",
       "      <th>earnings</th>\n",
       "    </tr>\n",
       "    <tr>\n",
       "      <th>year</th>\n",
       "      <th></th>\n",
       "    </tr>\n",
       "  </thead>\n",
       "  <tbody>\n",
       "    <tr>\n",
       "      <th>2011</th>\n",
       "      <td>8.2</td>\n",
       "    </tr>\n",
       "    <tr>\n",
       "      <th>2012</th>\n",
       "      <td>468.7</td>\n",
       "    </tr>\n",
       "    <tr>\n",
       "      <th>2013</th>\n",
       "      <td>423.9</td>\n",
       "    </tr>\n",
       "    <tr>\n",
       "      <th>2014</th>\n",
       "      <td>2211.6</td>\n",
       "    </tr>\n",
       "    <tr>\n",
       "      <th>2015</th>\n",
       "      <td>15252.6</td>\n",
       "    </tr>\n",
       "    <tr>\n",
       "      <th>2016</th>\n",
       "      <td>32594.8</td>\n",
       "    </tr>\n",
       "    <tr>\n",
       "      <th>2017</th>\n",
       "      <td>59692.1</td>\n",
       "    </tr>\n",
       "    <tr>\n",
       "      <th>2018</th>\n",
       "      <td>71875.3</td>\n",
       "    </tr>\n",
       "    <tr>\n",
       "      <th>2019</th>\n",
       "      <td>56571.6</td>\n",
       "    </tr>\n",
       "  </tbody>\n",
       "</table>\n",
       "</div>"
      ],
      "text/plain": [
       "      earnings\n",
       "year          \n",
       "2011       8.2\n",
       "2012     468.7\n",
       "2013     423.9\n",
       "2014    2211.6\n",
       "2015   15252.6\n",
       "2016   32594.8\n",
       "2017   59692.1\n",
       "2018   71875.3\n",
       "2019   56571.6"
      ]
     },
     "execution_count": 55,
     "metadata": {},
     "output_type": "execute_result"
    }
   ],
   "source": [
    "# Extracting the yaer \n",
    "df['year'] = df['last_review'].dt.year\n",
    "\n",
    "# Calculating the income for each year\n",
    "df_year = df[['year', 'earnings']].groupby('year').sum()\n",
    "\n",
    "# Scaling the values from dollars to 1000 dollars\n",
    "df_year['earnings'] = round(df_year['earnings'] / 1000, 1)\n",
    "df_year"
   ]
  },
  {
   "cell_type": "code",
   "execution_count": 56,
   "id": "5dcc1886",
   "metadata": {},
   "outputs": [
    {
     "data": {
      "image/png": "[encoded data removed]",
      "text/plain": [
       "<Figure size 640x480 with 1 Axes>"
      ]
     },
     "metadata": {},
     "output_type": "display_data"
    }
   ],
   "source": [
    "# Plotting the bar graph\n",
    "ax = df_year.plot.bar()\n",
    "plt.yticks(ax.get_yticks(),[str(int(y))+'k' for y in ax.get_yticks()])\n",
    "plt.title(\"Earnings of Accommodations from 2011 to 2019\")\n",
    "plt.show()"
   ]
  },
  {
   "cell_type": "markdown",
   "id": "cf7fb48d",
   "metadata": {},
   "source": [
    "<b>Observation</b>"
   ]
  },
  {
   "cell_type": "code",
   "execution_count": 57,
   "id": "a29d40e2",
   "metadata": {},
   "outputs": [
    {
     "data": {
      "text/html": [
       "<div>\n",
       "<style scoped>\n",
       "    .dataframe tbody tr th:only-of-type {\n",
       "        vertical-align: middle;\n",
       "    }\n",
       "\n",
       "    .dataframe tbody tr th {\n",
       "        vertical-align: top;\n",
       "    }\n",
       "\n",
       "    .dataframe thead th {\n",
       "        text-align: right;\n",
       "    }\n",
       "</style>\n",
       "<table border=\"1\" class=\"dataframe\">\n",
       "  <thead>\n",
       "    <tr style=\"text-align: right;\">\n",
       "      <th></th>\n",
       "      <th>earnings</th>\n",
       "    </tr>\n",
       "    <tr>\n",
       "      <th>year</th>\n",
       "      <th></th>\n",
       "    </tr>\n",
       "  </thead>\n",
       "  <tbody>\n",
       "    <tr>\n",
       "      <th>2018</th>\n",
       "      <td>71875.3</td>\n",
       "    </tr>\n",
       "  </tbody>\n",
       "</table>\n",
       "</div>"
      ],
      "text/plain": [
       "      earnings\n",
       "year          \n",
       "2018   71875.3"
      ]
     },
     "execution_count": 57,
     "metadata": {},
     "output_type": "execute_result"
    }
   ],
   "source": [
    "df_year[df_year['earnings'] == df_year.earnings.max()]"
   ]
  },
  {
   "cell_type": "markdown",
   "id": "53ab80c1",
   "metadata": {},
   "source": [
    "Hosts has not money in earlier years. A steep increase in 2014 from 2017. \n",
    "2018 is the year where the hosts has made highest earnings."
   ]
  },
  {
   "cell_type": "markdown",
   "id": "3857c79d",
   "metadata": {},
   "source": [
    "### 9) Categorize the availability of accommodations into four quarters and find out the number of accommodations available per quarter?"
   ]
  },
  {
   "cell_type": "markdown",
   "id": "cefee51a",
   "metadata": {},
   "source": [
    "<b>Approach:</b>Insert a new column quarter by the month value in last_review. Calcuate the total number of accommodations avaialable per quarter using group by."
   ]
  },
  {
   "cell_type": "code",
   "execution_count": 58,
   "id": "649b2050",
   "metadata": {},
   "outputs": [
    {
     "data": {
      "text/html": [
       "<div>\n",
       "<style scoped>\n",
       "    .dataframe tbody tr th:only-of-type {\n",
       "        vertical-align: middle;\n",
       "    }\n",
       "\n",
       "    .dataframe tbody tr th {\n",
       "        vertical-align: top;\n",
       "    }\n",
       "\n",
       "    .dataframe thead th {\n",
       "        text-align: right;\n",
       "    }\n",
       "</style>\n",
       "<table border=\"1\" class=\"dataframe\">\n",
       "  <thead>\n",
       "    <tr style=\"text-align: right;\">\n",
       "      <th></th>\n",
       "      <th>id</th>\n",
       "      <th>last_review</th>\n",
       "      <th>quarter</th>\n",
       "    </tr>\n",
       "  </thead>\n",
       "  <tbody>\n",
       "    <tr>\n",
       "      <th>0</th>\n",
       "      <td>40228</td>\n",
       "      <td>2019-01-01</td>\n",
       "      <td>Q1</td>\n",
       "    </tr>\n",
       "    <tr>\n",
       "      <th>1</th>\n",
       "      <td>41870</td>\n",
       "      <td>2011-07-02</td>\n",
       "      <td>Q3</td>\n",
       "    </tr>\n",
       "    <tr>\n",
       "      <th>2</th>\n",
       "      <td>42692</td>\n",
       "      <td>2019-01-01</td>\n",
       "      <td>Q1</td>\n",
       "    </tr>\n",
       "    <tr>\n",
       "      <th>3</th>\n",
       "      <td>55402</td>\n",
       "      <td>2018-11-09</td>\n",
       "      <td>Q4</td>\n",
       "    </tr>\n",
       "    <tr>\n",
       "      <th>4</th>\n",
       "      <td>65908</td>\n",
       "      <td>2019-01-01</td>\n",
       "      <td>Q1</td>\n",
       "    </tr>\n",
       "  </tbody>\n",
       "</table>\n",
       "</div>"
      ],
      "text/plain": [
       "      id last_review quarter\n",
       "0  40228  2019-01-01      Q1\n",
       "1  41870  2011-07-02      Q3\n",
       "2  42692  2019-01-01      Q1\n",
       "3  55402  2018-11-09      Q4\n",
       "4  65908  2019-01-01      Q1"
      ]
     },
     "execution_count": 58,
     "metadata": {},
     "output_type": "execute_result"
    }
   ],
   "source": [
    "# Categorizing the values based on last_review\n",
    "df['quarter'] = np.select(\n",
    "    [df['last_review'].dt.month.isin([1, 2, 3]),\n",
    "     df['last_review'].dt.month.isin([4, 5, 6]),\n",
    "     df['last_review'].dt.month.isin([7, 8, 9]),\n",
    "     df['last_review'].dt.month.isin([10, 11, 12])],\n",
    "    ['Q1', 'Q2', 'Q3', 'Q4'])\n",
    "df[['id', 'last_review', 'quarter']].head()"
   ]
  },
  {
   "cell_type": "code",
   "execution_count": 59,
   "id": "4b74654c",
   "metadata": {},
   "outputs": [
    {
     "data": {
      "text/html": [
       "<div>\n",
       "<style scoped>\n",
       "    .dataframe tbody tr th:only-of-type {\n",
       "        vertical-align: middle;\n",
       "    }\n",
       "\n",
       "    .dataframe tbody tr th {\n",
       "        vertical-align: top;\n",
       "    }\n",
       "\n",
       "    .dataframe thead th {\n",
       "        text-align: right;\n",
       "    }\n",
       "</style>\n",
       "<table border=\"1\" class=\"dataframe\">\n",
       "  <thead>\n",
       "    <tr style=\"text-align: right;\">\n",
       "      <th></th>\n",
       "      <th>quarter</th>\n",
       "    </tr>\n",
       "  </thead>\n",
       "  <tbody>\n",
       "    <tr>\n",
       "      <th>Q3</th>\n",
       "      <td>3798</td>\n",
       "    </tr>\n",
       "    <tr>\n",
       "      <th>Q1</th>\n",
       "      <td>3540</td>\n",
       "    </tr>\n",
       "    <tr>\n",
       "      <th>Q4</th>\n",
       "      <td>2333</td>\n",
       "    </tr>\n",
       "    <tr>\n",
       "      <th>Q2</th>\n",
       "      <td>2058</td>\n",
       "    </tr>\n",
       "  </tbody>\n",
       "</table>\n",
       "</div>"
      ],
      "text/plain": [
       "    quarter\n",
       "Q3     3798\n",
       "Q1     3540\n",
       "Q4     2333\n",
       "Q2     2058"
      ]
     },
     "execution_count": 59,
     "metadata": {},
     "output_type": "execute_result"
    }
   ],
   "source": [
    "# Counting the values in each counter\n",
    "quarter = df['quarter'].value_counts().to_frame()\n",
    "quarter"
   ]
  },
  {
   "cell_type": "markdown",
   "id": "bc1da8dd",
   "metadata": {},
   "source": [
    "<b>Observation</b>"
   ]
  },
  {
   "cell_type": "code",
   "execution_count": 60,
   "id": "d289dfc6",
   "metadata": {},
   "outputs": [
    {
     "name": "stdout",
     "output_type": "stream",
     "text": [
      "The accommodations are available on an average of 2932.25 per quarter.The maximum number of accommodations which is 3798 is available in Q3 quarter and minimum (2058) in Q2 quarter\n"
     ]
    }
   ],
   "source": [
    "print(\"The accommodations are available on an average of %.2f per quarter.\"\n",
    "      \"The maximum number of accommodations which is %d is available in %s quarter and minimum (%d) in %s quarter\"\n",
    "  %(quarter.mean(), quarter.max(), quarter.index[0], quarter.min(), quarter.index[-1]))"
   ]
  },
  {
   "cell_type": "markdown",
   "id": "791e4e9b",
   "metadata": {},
   "source": [
    "### 10) Find the relation between the average price and reviews per each neighbourhood?"
   ]
  },
  {
   "cell_type": "markdown",
   "id": "c1ed5b1d",
   "metadata": {},
   "source": [
    "<b>Approach:</b>Calculate the average price and number of reviews for each neighbourhood and the correlation between them."
   ]
  },
  {
   "cell_type": "code",
   "execution_count": 61,
   "id": "b626a4bb",
   "metadata": {},
   "outputs": [
    {
     "data": {
      "text/html": [
       "<div>\n",
       "<style scoped>\n",
       "    .dataframe tbody tr th:only-of-type {\n",
       "        vertical-align: middle;\n",
       "    }\n",
       "\n",
       "    .dataframe tbody tr th {\n",
       "        vertical-align: top;\n",
       "    }\n",
       "\n",
       "    .dataframe thead th {\n",
       "        text-align: right;\n",
       "    }\n",
       "</style>\n",
       "<table border=\"1\" class=\"dataframe\">\n",
       "  <thead>\n",
       "    <tr style=\"text-align: right;\">\n",
       "      <th></th>\n",
       "      <th>price</th>\n",
       "      <th>number_of_reviews</th>\n",
       "    </tr>\n",
       "    <tr>\n",
       "      <th>neighbourhood</th>\n",
       "      <th></th>\n",
       "      <th></th>\n",
       "    </tr>\n",
       "  </thead>\n",
       "  <tbody>\n",
       "    <tr>\n",
       "      <th>Barking and Dagenham</th>\n",
       "      <td>73.392857</td>\n",
       "      <td>6.071429</td>\n",
       "    </tr>\n",
       "    <tr>\n",
       "      <th>Barnet</th>\n",
       "      <td>78.482558</td>\n",
       "      <td>6.831395</td>\n",
       "    </tr>\n",
       "    <tr>\n",
       "      <th>Bexley</th>\n",
       "      <td>54.057143</td>\n",
       "      <td>6.400000</td>\n",
       "    </tr>\n",
       "    <tr>\n",
       "      <th>Brent</th>\n",
       "      <td>96.258389</td>\n",
       "      <td>6.543624</td>\n",
       "    </tr>\n",
       "    <tr>\n",
       "      <th>Bromley</th>\n",
       "      <td>60.328571</td>\n",
       "      <td>5.428571</td>\n",
       "    </tr>\n",
       "  </tbody>\n",
       "</table>\n",
       "</div>"
      ],
      "text/plain": [
       "                          price  number_of_reviews\n",
       "neighbourhood                                     \n",
       "Barking and Dagenham  73.392857           6.071429\n",
       "Barnet                78.482558           6.831395\n",
       "Bexley                54.057143           6.400000\n",
       "Brent                 96.258389           6.543624\n",
       "Bromley               60.328571           5.428571"
      ]
     },
     "execution_count": 61,
     "metadata": {},
     "output_type": "execute_result"
    }
   ],
   "source": [
    "df_neighbourhood = df[['neighbourhood', 'price', 'number_of_reviews']]\\\n",
    "                    .groupby(['neighbourhood'])\\\n",
    "                    .mean(['number_of_reviews', 'price'])\n",
    "df_neighbourhood.head()"
   ]
  },
  {
   "cell_type": "code",
   "execution_count": 62,
   "id": "3b834fd9",
   "metadata": {},
   "outputs": [
    {
     "data": {
      "text/html": [
       "<div>\n",
       "<style scoped>\n",
       "    .dataframe tbody tr th:only-of-type {\n",
       "        vertical-align: middle;\n",
       "    }\n",
       "\n",
       "    .dataframe tbody tr th {\n",
       "        vertical-align: top;\n",
       "    }\n",
       "\n",
       "    .dataframe thead th {\n",
       "        text-align: right;\n",
       "    }\n",
       "</style>\n",
       "<table border=\"1\" class=\"dataframe\">\n",
       "  <thead>\n",
       "    <tr style=\"text-align: right;\">\n",
       "      <th></th>\n",
       "      <th>price</th>\n",
       "      <th>number_of_reviews</th>\n",
       "    </tr>\n",
       "  </thead>\n",
       "  <tbody>\n",
       "    <tr>\n",
       "      <th>price</th>\n",
       "      <td>1.000000</td>\n",
       "      <td>0.630357</td>\n",
       "    </tr>\n",
       "    <tr>\n",
       "      <th>number_of_reviews</th>\n",
       "      <td>0.630357</td>\n",
       "      <td>1.000000</td>\n",
       "    </tr>\n",
       "  </tbody>\n",
       "</table>\n",
       "</div>"
      ],
      "text/plain": [
       "                      price  number_of_reviews\n",
       "price              1.000000           0.630357\n",
       "number_of_reviews  0.630357           1.000000"
      ]
     },
     "execution_count": 62,
     "metadata": {},
     "output_type": "execute_result"
    }
   ],
   "source": [
    "# Correlation between price and number of reviews\n",
    "df_neighbourhood.corr()"
   ]
  },
  {
   "cell_type": "code",
   "execution_count": 63,
   "id": "99589c43",
   "metadata": {},
   "outputs": [
    {
     "name": "stderr",
     "output_type": "stream",
     "text": [
      "C:\\Users\\sadhv\\AppData\\Local\\Programs\\Python\\Python310\\lib\\site-packages\\pandas\\plotting\\_matplotlib\\core.py:1114: UserWarning: No data for colormapping provided via 'c'. Parameters 'cmap' will be ignored\n",
      "  scatter = ax.scatter(\n"
     ]
    },
    {
     "data": {
      "text/plain": [
       "<AxesSubplot: xlabel='number_of_reviews', ylabel='price'>"
      ]
     },
     "execution_count": 63,
     "metadata": {},
     "output_type": "execute_result"
    },
    {
     "data": {
      "image/png": "[encoded data removed]",
      "text/plain": [
       "<Figure size 640x480 with 1 Axes>"
      ]
     },
     "metadata": {},
     "output_type": "display_data"
    }
   ],
   "source": [
    "# plotting a scatter plot \n",
    "df_neighbourhood.plot.scatter(x = 'number_of_reviews', y = 'price')"
   ]
  },
  {
   "cell_type": "markdown",
   "id": "2cf0171d",
   "metadata": {},
   "source": [
    "<b>Observation</b>"
   ]
  },
  {
   "cell_type": "markdown",
   "id": "cb876c68",
   "metadata": {},
   "source": [
    "The correlation between the price column and number_of_reviews is 60%. By observing the above plot, it is known the accommodations which are having most reviews is also having higher price"
   ]
  },
  {
   "cell_type": "markdown",
   "id": "08835cdb",
   "metadata": {},
   "source": [
    "### 11) Calculate the average price of various room types available in each neighbourhood and  find out neighbourhoods having minimum and maximum average price\n"
   ]
  },
  {
   "cell_type": "markdown",
   "id": "e24a2c52",
   "metadata": {},
   "source": [
    "<b>Approach:</b>average price will be the value obtained from the average of price of each room type in each neighbourhood"
   ]
  },
  {
   "cell_type": "code",
   "execution_count": 64,
   "id": "ae4fcac6",
   "metadata": {},
   "outputs": [
    {
     "data": {
      "text/html": [
       "<div>\n",
       "<style scoped>\n",
       "    .dataframe tbody tr th:only-of-type {\n",
       "        vertical-align: middle;\n",
       "    }\n",
       "\n",
       "    .dataframe tbody tr th {\n",
       "        vertical-align: top;\n",
       "    }\n",
       "\n",
       "    .dataframe thead th {\n",
       "        text-align: right;\n",
       "    }\n",
       "</style>\n",
       "<table border=\"1\" class=\"dataframe\">\n",
       "  <thead>\n",
       "    <tr style=\"text-align: right;\">\n",
       "      <th></th>\n",
       "      <th>neighbourhood</th>\n",
       "      <th>room_type</th>\n",
       "      <th>price</th>\n",
       "    </tr>\n",
       "  </thead>\n",
       "  <tbody>\n",
       "    <tr>\n",
       "      <th>0</th>\n",
       "      <td>Barking and Dagenham</td>\n",
       "      <td>Entire home/apt</td>\n",
       "      <td>92.93</td>\n",
       "    </tr>\n",
       "    <tr>\n",
       "      <th>1</th>\n",
       "      <td>Barking and Dagenham</td>\n",
       "      <td>Private room</td>\n",
       "      <td>53.86</td>\n",
       "    </tr>\n",
       "    <tr>\n",
       "      <th>2</th>\n",
       "      <td>Barnet</td>\n",
       "      <td>Entire home/apt</td>\n",
       "      <td>106.76</td>\n",
       "    </tr>\n",
       "    <tr>\n",
       "      <th>3</th>\n",
       "      <td>Barnet</td>\n",
       "      <td>Private room</td>\n",
       "      <td>50.60</td>\n",
       "    </tr>\n",
       "    <tr>\n",
       "      <th>4</th>\n",
       "      <td>Barnet</td>\n",
       "      <td>Shared room</td>\n",
       "      <td>17.00</td>\n",
       "    </tr>\n",
       "    <tr>\n",
       "      <th>...</th>\n",
       "      <td>...</td>\n",
       "      <td>...</td>\n",
       "      <td>...</td>\n",
       "    </tr>\n",
       "    <tr>\n",
       "      <th>91</th>\n",
       "      <td>Wandsworth</td>\n",
       "      <td>Private room</td>\n",
       "      <td>54.16</td>\n",
       "    </tr>\n",
       "    <tr>\n",
       "      <th>92</th>\n",
       "      <td>Wandsworth</td>\n",
       "      <td>Shared room</td>\n",
       "      <td>126.00</td>\n",
       "    </tr>\n",
       "    <tr>\n",
       "      <th>93</th>\n",
       "      <td>Westminster</td>\n",
       "      <td>Entire home/apt</td>\n",
       "      <td>201.53</td>\n",
       "    </tr>\n",
       "    <tr>\n",
       "      <th>94</th>\n",
       "      <td>Westminster</td>\n",
       "      <td>Private room</td>\n",
       "      <td>85.68</td>\n",
       "    </tr>\n",
       "    <tr>\n",
       "      <th>95</th>\n",
       "      <td>Westminster</td>\n",
       "      <td>Shared room</td>\n",
       "      <td>39.00</td>\n",
       "    </tr>\n",
       "  </tbody>\n",
       "</table>\n",
       "<p>96 rows × 3 columns</p>\n",
       "</div>"
      ],
      "text/plain": [
       "           neighbourhood        room_type   price\n",
       "0   Barking and Dagenham  Entire home/apt   92.93\n",
       "1   Barking and Dagenham     Private room   53.86\n",
       "2                 Barnet  Entire home/apt  106.76\n",
       "3                 Barnet     Private room   50.60\n",
       "4                 Barnet      Shared room   17.00\n",
       "..                   ...              ...     ...\n",
       "91            Wandsworth     Private room   54.16\n",
       "92            Wandsworth      Shared room  126.00\n",
       "93           Westminster  Entire home/apt  201.53\n",
       "94           Westminster     Private room   85.68\n",
       "95           Westminster      Shared room   39.00\n",
       "\n",
       "[96 rows x 3 columns]"
      ]
     },
     "execution_count": 64,
     "metadata": {},
     "output_type": "execute_result"
    }
   ],
   "source": [
    "# grouping price by neighbourhood and room_type and calculating the average price\n",
    "avg_price = df[['neighbourhood', 'room_type', 'price']].groupby(['neighbourhood', 'room_type']).mean('price')\n",
    "\n",
    "# rounding price to 2 decimals\n",
    "avg_price['price'] = round(avg_price['price'], 2)\n",
    "avg_price.reset_index(inplace = True)\n",
    "avg_price"
   ]
  },
  {
   "cell_type": "code",
   "execution_count": 65,
   "id": "2b091d05",
   "metadata": {},
   "outputs": [
    {
     "data": {
      "text/html": [
       "<div>\n",
       "<style scoped>\n",
       "    .dataframe tbody tr th:only-of-type {\n",
       "        vertical-align: middle;\n",
       "    }\n",
       "\n",
       "    .dataframe tbody tr th {\n",
       "        vertical-align: top;\n",
       "    }\n",
       "\n",
       "    .dataframe thead th {\n",
       "        text-align: right;\n",
       "    }\n",
       "</style>\n",
       "<table border=\"1\" class=\"dataframe\">\n",
       "  <thead>\n",
       "    <tr style=\"text-align: right;\">\n",
       "      <th></th>\n",
       "      <th>available</th>\n",
       "      <th>min_price</th>\n",
       "      <th>min_price_location</th>\n",
       "      <th>max_price</th>\n",
       "      <th>max_price_location</th>\n",
       "    </tr>\n",
       "  </thead>\n",
       "  <tbody>\n",
       "    <tr>\n",
       "      <th>Private room</th>\n",
       "      <td>33</td>\n",
       "      <td>33.95</td>\n",
       "      <td>Sutton</td>\n",
       "      <td>128.39</td>\n",
       "      <td>Camden</td>\n",
       "    </tr>\n",
       "    <tr>\n",
       "      <th>Entire home/apt</th>\n",
       "      <td>33</td>\n",
       "      <td>53.43</td>\n",
       "      <td>Bexley</td>\n",
       "      <td>201.53</td>\n",
       "      <td>Westminster</td>\n",
       "    </tr>\n",
       "    <tr>\n",
       "      <th>Shared room</th>\n",
       "      <td>26</td>\n",
       "      <td>17.0</td>\n",
       "      <td>Barnet</td>\n",
       "      <td>282.5</td>\n",
       "      <td>Redbridge</td>\n",
       "    </tr>\n",
       "    <tr>\n",
       "      <th>Hotel room</th>\n",
       "      <td>4</td>\n",
       "      <td>50.0</td>\n",
       "      <td>Islington</td>\n",
       "      <td>400.0</td>\n",
       "      <td>Enfield</td>\n",
       "    </tr>\n",
       "  </tbody>\n",
       "</table>\n",
       "</div>"
      ],
      "text/plain": [
       "                available min_price min_price_location max_price  \\\n",
       "Private room           33     33.95             Sutton    128.39   \n",
       "Entire home/apt        33     53.43             Bexley    201.53   \n",
       "Shared room            26      17.0             Barnet     282.5   \n",
       "Hotel room              4      50.0          Islington     400.0   \n",
       "\n",
       "                max_price_location  \n",
       "Private room                Camden  \n",
       "Entire home/apt        Westminster  \n",
       "Shared room              Redbridge  \n",
       "Hotel room                 Enfield  "
      ]
     },
     "execution_count": 65,
     "metadata": {},
     "output_type": "execute_result"
    }
   ],
   "source": [
    "# creating dataframe with index and column names\n",
    "df_avg = pd.DataFrame(index = df['room_type'].unique(), \n",
    "                      columns = ['available', 'min_price', 'min_price_location', 'max_price', 'max_price_location']) \n",
    "\n",
    "# filling the values of df_avg\n",
    "for room_type in avg_price['room_type'].unique():\n",
    "    df_roomtype = avg_price[avg_price['room_type'] == room_type]\n",
    "    \n",
    "    df_avg.loc[room_type, 'available'] = df_roomtype.neighbourhood.unique().shape[0]\n",
    "    df_avg.loc[room_type, 'min_price'] = df_roomtype[df_roomtype['price'] == df_roomtype['price'].min()]['price'].values[0]\n",
    "    df_avg.loc[room_type, 'min_price_location'] = df_roomtype[df_roomtype['price'] == df_roomtype['price'].min()]['neighbourhood'].values[0]\n",
    "    df_avg.loc[room_type, 'max_price'] = df_roomtype[df_roomtype['price'] == df_roomtype['price'].max()]['price'].values[0]\n",
    "    df_avg.loc[room_type, 'max_price_location'] = df_roomtype[df_roomtype['price'] == df_roomtype['price'].max()]['neighbourhood'].values[0]\n",
    "    \n",
    "df_avg    "
   ]
  },
  {
   "cell_type": "markdown",
   "id": "0b5d74f0",
   "metadata": {},
   "source": [
    "<b>Observation</b>"
   ]
  },
  {
   "cell_type": "markdown",
   "id": "9e3e91ba",
   "metadata": {},
   "source": [
    "It is observed that Private room and Entire home/apt is the room types which are available in 33 locations which is highest.\n",
    "Where as Hotel room are available in only 4 locations. \n",
    "\n",
    "The average price of Private room in Sutton is 33.95 which is low and maximum of 128.39 in Camden. \n",
    "A shared room is costly in Redbridge with 282.5 average cost and low in Barnet with 17.\n",
    "The Hotel room type varies from 50 in Islington to 400 in Enfield which is highest of all."
   ]
  },
  {
   "cell_type": "markdown",
   "id": "d6bdab2d",
   "metadata": {},
   "source": [
    "## Summary\n",
    "\n",
    "Hackney is the neighbourhood whre 1363 accommodations and 12 neighbourhoods have more than average number of\n",
    "accommodations per locations. Westminster is the one which has huge earnings. Eventhough the host\n",
    "has many accommodations, it does not tell that they have high earnings. Kensington and Chelsea is the \n",
    "expensive neighbourhood to stay which includes more than 50 percent of accommodations having prices \n",
    "greater than 114.00 per night. 6123 has received 0.01 to 0.04 reviews per month. Where as there are 160 accommodations \n",
    "receive more than 0.75. Southwark is the neighbourhood which has reviews better. From the analysis, Veronica is the \n",
    "host who got more number of reviews. 4 hosts are in top 10 list who are based in Westminster location.\n",
    "2018 is the year where the lot of hosts have earned more money. \n",
    "The accommodations are available on an average of 2932.25 per quarter.\n",
    "There is a correlation of 60% between average price and average reviews.\n",
    "\n",
    "\n"
   ]
  },
  {
   "cell_type": "markdown",
   "id": "3ec9f16c",
   "metadata": {},
   "source": [
    "## Task Distribution\n",
    "\n",
    "<table align=\"left\">\n",
    "<thead>\n",
    "<tr class=\"header\">\n",
    "<td><strong>S.No.</strong></td>\n",
    "<td><strong>Task</strong></td>\n",
    "<td><strong>Names</strong></td>\n",
    "</tr>\n",
    "</thead>\n",
    "<tbody>\n",
    "<tr class=\"odd\">\n",
    "<td><strong>1.</strong></td>\n",
    "<td><strong>Dataset Research</strong></td>\n",
    "<td><strong>Nihash/Yogamrutha</strong></td>\n",
    "</tr>\n",
    "    <tr class=\"odd\">\n",
    "<td><strong>2.</strong></td>\n",
    "<td><strong>Dataset Changes as per requirements</strong></td>\n",
    "<td><strong>Padmaja/meher</strong></td>\n",
    "</tr>\n",
    "    <tr class=\"odd\">\n",
    "<td><strong>3.</strong></td>\n",
    "<td><strong>Dataset Description</strong></td>\n",
    "<td><strong>Nihash/Bidhut</strong></td>\n",
    "</tr>\n",
    "    <tr class=\"odd\">\n",
    "<td><strong>4.</strong></td>\n",
    "<td><strong>Missing Values Imputation</strong></td>\n",
    "<td><strong>Bidhut/meher</strong></td>\n",
    "</tr>\n",
    "    <tr class=\"odd\">\n",
    "<td><strong>5.</strong></td>\n",
    "<td><strong>Questions</strong></td>\n",
    "<td><strong>Bidhut/Nihash/meher/Padmaja/Yogamrutha</strong></td>\n",
    "</tr>\n",
    "        <tr class=\"odd\">\n",
    "<td><strong>6.</strong></td>\n",
    "<td><strong>Data Visualization</strong></td>\n",
    "<td><strong>Yogamrutha/Padmaja</strong></td>\n",
    "</tr>\n",
    "</tbody>\n",
    "</table>"
   ]
  },
  {
   "cell_type": "markdown",
   "id": "4bf9bea1",
   "metadata": {},
   "source": [
    "## References\n",
    "\n",
    "<b>Dataset:</b>https://www.kaggle.com/datasets/whenamancodes/london-uk-airbnb-open-data\n"
   ]
  },
  {
   "cell_type": "code",
   "execution_count": null,
   "id": "9a71fc0d",
   "metadata": {},
   "outputs": [],
   "source": []
  }
 ],
 "metadata": {
  "kernelspec": {
   "display_name": "Python 3 (ipykernel)",
   "language": "python",
   "name": "python3"
  },
  "language_info": {
   "codemirror_mode": {
    "name": "ipython",
    "version": 3
   },
   "file_extension": ".py",
   "mimetype": "text/x-python",
   "name": "python",
   "nbconvert_exporter": "python",
   "pygments_lexer": "ipython3",
   "version": "3.9.12"
  }
 },
 "nbformat": 4,
 "nbformat_minor": 5
}
